{
 "cells": [
  {
   "cell_type": "markdown",
   "source": [
    "## Permutation Importance Analysis\n",
    "\n",
    "Here we use permutation importance to analyze the importance of each feature in the StructuralDPPIV model. The permutation importance is calculated by the following steps:"
   ],
   "metadata": {
    "collapsed": false,
    "pycharm": {
     "name": "#%% md\n"
    }
   }
  },
  {
   "cell_type": "code",
   "execution_count": 1,
   "outputs": [
    {
     "name": "stdout",
     "output_type": "stream",
     "text": [
      "tensor([[ 0.5626, -0.7419,  1.2144, -0.6606],\n",
      "        [ 1.2828,  0.8220, -0.7697, -0.6885],\n",
      "        [ 0.0071,  0.4041,  0.5677,  0.1571],\n",
      "        [ 2.2381,  0.2617, -0.4841, -0.9488],\n",
      "        [-0.4838,  0.1121, -0.1452, -2.1382],\n",
      "        [-1.1116, -0.4883, -0.4934, -0.1940]])\n",
      "tensor([[1.],\n",
      "        [1.],\n",
      "        [1.],\n",
      "        [1.],\n",
      "        [1.],\n",
      "        [1.]])\n",
      "tensor([[ 0.5626, -0.7419,  1.2144,  1.0000, -0.6606],\n",
      "        [ 1.2828,  0.8220, -0.7697,  1.0000, -0.6885],\n",
      "        [ 0.0071,  0.4041,  0.5677,  1.0000,  0.1571],\n",
      "        [ 2.2381,  0.2617, -0.4841,  1.0000, -0.9488],\n",
      "        [-0.4838,  0.1121, -0.1452,  1.0000, -2.1382],\n",
      "        [-1.1116, -0.4883, -0.4934,  1.0000, -0.1940]])\n"
     ]
    }
   ],
   "source": [
    "import torch\n",
    "new_tensor = torch.randn([6,4])\n",
    "target_tensor = torch.ones(new_tensor.shape[0])\n",
    "target_tensor = target_tensor.unsqueeze(1)\n",
    "print(new_tensor)\n",
    "print(target_tensor)\n",
    "permutation_tensor = torch.cat((new_tensor[:,:3],target_tensor, new_tensor[:,3:]),1)\n",
    "print(permutation_tensor)"
   ],
   "metadata": {
    "collapsed": false,
    "pycharm": {
     "name": "#%%\n"
    }
   }
  },
  {
   "cell_type": "markdown",
   "source": [
    "# Basic imports and settings"
   ],
   "metadata": {
    "collapsed": false,
    "pycharm": {
     "name": "#%% md\n"
    }
   }
  },
  {
   "cell_type": "code",
   "execution_count": 7,
   "outputs": [
    {
     "name": "stdout",
     "output_type": "stream",
     "text": [
      "[INFO] using Structural config of DPP-IV\n",
      "[INFO] using CNN config of DPP-IV\n"
     ]
    }
   ],
   "source": [
    "import os\n",
    "import sys\n",
    "import argparse\n",
    "sys.path.append(\"/mnt/8t/jjr/Structural-DPP-IV\")\n",
    "\n",
    "import torch\n",
    "import torch.nn as nn\n",
    "import torch.nn.functional as F\n",
    "import numpy as np\n",
    "from tqdm import tqdm\n",
    "from sklearn.metrics import roc_curve, accuracy_score, precision_score, recall_score, f1_score, roc_auc_score\n",
    "\n",
    "# from model import StructuralDPPIV\n",
    "from config import load_config\n",
    "from config.load_constant import constant\n",
    "from data import StructuralEncode\n",
    "from data import Encode\n",
    "from util import util_draw\n",
    "\n",
    "config_dict = load_config.load_default_args_dict(\"StructuralDPPIV\")\n",
    "config_dict['max_epochs'] = 150\n",
    "config_dict['gpus'] = [3]  # using which GPU to train\n",
    "config_dict['batch_size'] = 32\n",
    "config_dict['lr'] = 0.000005\n",
    "config_dict['model'] = 'StructuralDPPIV'\n",
    "config_dict['log_dir'] = constant['path_log']\n",
    "config_dict['max_seq_len'] = 90\n",
    "args = argparse.Namespace(**config_dict)\n",
    "\n",
    "class StructuralDPPIV(nn.Module):\n",
    "    def __init__(self, config):\n",
    "        super(StructuralDPPIV, self).__init__()\n",
    "        self.StructEncodeModule = Structural(config)\n",
    "        self.TextCNN = TextCNN()\n",
    "\n",
    "        self.classification = nn.Sequential(\n",
    "            nn.Linear(1024, 64),\n",
    "            nn.Dropout(0.5),\n",
    "            nn.ReLU(),\n",
    "            nn.Linear(64, 2)\n",
    "        )\n",
    "        self.Ws = nn.Parameter(torch.randn(1, 1024).cuda(), requires_grad=True)\n",
    "        self.Wh = nn.Parameter(torch.randn(1, 1024).cuda(), requires_grad=True)\n",
    "\n",
    "    def forward(self, x):\n",
    "        TextCNN_Only = False\n",
    "        StructuralEncodingOnly = False\n",
    "        assert not (TextCNN_Only and StructuralEncodingOnly)\n",
    "        if not TextCNN_Only and not StructuralEncodingOnly:\n",
    "            TextCNNEncode = self.TextCNN(x[0])\n",
    "            StructedEncode = self.StructEncodeModule(x[1])\n",
    "            newEncode = TextCNNEncode * StructedEncode\n",
    "            output = self.classification(newEncode)\n",
    "            return output, newEncode\n",
    "        elif TextCNN_Only:\n",
    "            TextCNNEncode = self.TextCNN(x[0])\n",
    "            output = self.classification(TextCNNEncode)\n",
    "            return output, TextCNNEncode\n",
    "        elif StructuralEncodingOnly:\n",
    "            StructedEncode = self.StructEncodeModule(x[1])\n",
    "            output = self.classification(StructedEncode)\n",
    "            return output, StructedEncode\n",
    "\n",
    "\n",
    "class TextCNN(nn.Module):\n",
    "    def __init__(self):\n",
    "        super(TextCNN, self).__init__()\n",
    "        self.visualization = False\n",
    "        vocab_size = 24\n",
    "        dim_embedding = 100\n",
    "        print(f\"[INFO] using CNN config of {dataset_name}\")\n",
    "        # filter_sizes = [1, 2, 4, 8, 16, 24, 32, 48, 64]\n",
    "        filter_sizes = [1, 2]\n",
    "        filter_num = 90\n",
    "        self.embedding = nn.Embedding(vocab_size, dim_embedding)\n",
    "        self.convs = nn.ModuleList(\n",
    "            [nn.Conv2d(1, filter_num, (fsz, dim_embedding)) for fsz in filter_sizes])\n",
    "        self.linear = nn.Linear(filter_num * len(filter_sizes), 1024)\n",
    "\n",
    "    def forward(self, x):\n",
    "        # print(\"\\nx = \\n\", x)\n",
    "        x = self.embedding(x)\n",
    "        x = x.view(x.size(0), 1, x.size(1), -1)\n",
    "        x = [F.relu(conv(x)) for conv in self.convs]\n",
    "\n",
    "        x = [F.max_pool2d(input=x_item, kernel_size=(x_item.size(2), x_item.size(3))) for x_item in x]\n",
    "        x = [x_item.view(x_item.size(0), -1) for x_item in x]\n",
    "        embedding = torch.cat(x, 1)\n",
    "        embedding = self.linear(embedding)\n",
    "\n",
    "        return embedding\n",
    "\n",
    "\n",
    "class Structural(nn.Module):\n",
    "    def __init__(self, config):\n",
    "        super(Structural, self).__init__()\n",
    "        self.config = config\n",
    "        self.inpuchannel = [32, 32, 64]\n",
    "        global dataset_name\n",
    "        dataset_name = 'DPP-IV'\n",
    "        print(f\"[INFO] using Structural config of {dataset_name}\")\n",
    "        self.embedding_dim = 21\n",
    "        global max_seq_len\n",
    "        max_seq_len = config.max_seq_len\n",
    "        self.conv = torch.nn.Conv2d(self.embedding_dim, self.inpuchannel[0], (3, 3), stride=1, padding='same')\n",
    "        # self.conv = torch.nn.Conv2d(19, self.inpuchannel[0], (3, 3), stride=1, padding='same')\n",
    "        self.resBlock1 = resBlock(self.inpuchannel[0], self.inpuchannel[1])\n",
    "        self.resBlock2 = resBlock(self.inpuchannel[1], self.inpuchannel[2], increDimen=True)\n",
    "        self.linear = nn.Linear(23552, 1024)\n",
    "\n",
    "    def forward(self, graph):\n",
    "        # 90 is the max length of sequence, 15 is the number of amino acid, 21 is the number of channel\n",
    "        graph = graph.cuda()  # (batchSize, 90, 15, 21)\n",
    "        # graph = graph.transpose(2, 3)  # (batchSize, 90, 21, 15)\n",
    "        # graph = graph.transpose(1, 2)   # (batchSize, 21, 90, 15)\n",
    "        representation = self.conv(graph) # (batchSize, 32, 90, 15)\n",
    "        representation = self.resBlock1(representation) # (batchSize, 32, 90, 15)\n",
    "        representation = self.resBlock2(representation) # (batchSize, 64, 46, 8)\n",
    "        representation = representation.flatten(start_dim=1) # (batchSize, 23552)\n",
    "        representation = self.linear(representation) # (batchSize, 1024)\n",
    "        return representation\n",
    "\n",
    "\n",
    "class resBlock(nn.Module):\n",
    "    def __init__(self, inputchannel, outputchannel, increDimen=False):\n",
    "        super(resBlock, self).__init__()\n",
    "        self.increDimen = increDimen\n",
    "        self.inputchannel = inputchannel\n",
    "        self.outputchannel = outputchannel\n",
    "        padding_dim1 = 2 if max_seq_len % 2 == 0 else 1\n",
    "        self.conv = torch.nn.Conv2d(inputchannel, outputchannel, (3, 3), stride=(2, 2), padding=(padding_dim1, 1))\n",
    "        self.conv1 = torch.nn.Conv2d(inputchannel, outputchannel, (3, 3), stride=1, padding='same')\n",
    "        self.batchnorm1 = nn.BatchNorm2d(inputchannel, affine=True)\n",
    "        self.conv2 = torch.nn.Conv2d(outputchannel, outputchannel, (3, 3), stride=1, padding='same')\n",
    "        self.batchnorm2 = nn.BatchNorm2d(outputchannel, affine=True)\n",
    "\n",
    "    def forward(self, feature):\n",
    "        original = feature\n",
    "\n",
    "        if self.increDimen:\n",
    "            feature = F.max_pool2d(input=feature, kernel_size=(2, 2), padding=1)\n",
    "            original = self.conv(original)\n",
    "        feature = self.batchnorm1(feature)\n",
    "        feature = F.relu(feature)\n",
    "        feature = self.conv1(feature)\n",
    "        feature = self.batchnorm2(feature)\n",
    "        feature = F.relu(feature)\n",
    "        feature = self.conv2(feature)\n",
    "        feature = feature + original\n",
    "        return feature\n",
    "\n",
    "def load_params(model, param_path):\n",
    "    pretrained_dict = torch.load(param_path)['state_dict']\n",
    "    # print(pretrained_dict.keys())\n",
    "    new_model_dict = model.state_dict()\n",
    "    # print(new_model_dict.keys())\n",
    "    pretrained_dict = {'.'.join(k.split('.')[1:]): v for k, v in pretrained_dict.items() if '.'.join(k.split('.')[1:]) in new_model_dict}\n",
    "    # pretrained_dict = {k[6:]: v for k, v in pretrained_dict.items() if k[6:] in new_model_dict}\n",
    "    # print(pretrained_dict.keys())\n",
    "    new_model_dict.update(pretrained_dict)\n",
    "    model.load_state_dict(new_model_dict)\n",
    "\n",
    "def get_one_sequence_code(sequence = 'YPFPGPIP'):\n",
    "    # sequence = 'YPFPGPIP'\n",
    "\n",
    "    sequence_data_process = Encode.codePeptides([sequence])\n",
    "    sequence_data_length = len(sequence_data_process[0])\n",
    "    sequence_data_padding = np.pad(sequence_data_process[0], (0, 90 - sequence_data_length), 'constant', constant_values=0)\n",
    "    sequence_data = torch.tensor(np.array([sequence_data_padding])).cuda()\n",
    "\n",
    "    Channel = StructuralEncode.convert_to_graph_channel(sequence)\n",
    "    Structure_data = StructuralEncode.convert_to_graph_channel_returning_maxSeqLenx15xfn(Channel, cubeBiased=False,\n",
    "                                                                 maxSeqLen=90, cubeBias=False,\n",
    "                                                                 right_align=False)\n",
    "    tensor_Structure_data = torch.tensor(Structure_data).cuda()\n",
    "    tensor_Structure_data = torch.unsqueeze(tensor_Structure_data, 0)\n",
    "    tensor_Structure_data = tensor_Structure_data.transpose(2, 3)  # (batchSize, 90, 21, 15)\n",
    "    tensor_Structure_data = tensor_Structure_data.transpose(1, 2)   # (batchSize, 21, 90, 15)\n",
    "\n",
    "    # sequence_data = sequence_data_process.cuda()\n",
    "    # print(sequence_data)\n",
    "    return [sequence_data, tensor_Structure_data]\n",
    "\n",
    "def load_tsv(filename, skip_head=True):\n",
    "    sequences = []\n",
    "    labels = []\n",
    "    with open(filename, 'r') as file:\n",
    "        if skip_head:\n",
    "            next(file)\n",
    "        for line in file:\n",
    "            if line[-1] == '\\n':\n",
    "                line = line[:-1]\n",
    "            list = line.split('\\t')\n",
    "            sequences.append(list[2])\n",
    "            labels.append(int(list[1]))\n",
    "    return sequences, labels\n",
    "\n",
    "new_model = StructuralDPPIV(args).cuda()\n",
    "load_params(new_model, '/mnt/8t/jjr/Structural-DPP-IV/main/log/StructuralDPPIV/version_3/checkpoints/epoch=73,step=2442,val_SE_epoch=0.95,val_SP_epoch=0.87,val_F1_epoch=0.91,val_AUC_epoch=1.00.ckpt')"
   ],
   "metadata": {
    "collapsed": false,
    "pycharm": {
     "name": "#%%\n"
    }
   }
  },
  {
   "cell_type": "code",
   "execution_count": 8,
   "outputs": [
    {
     "name": "stderr",
     "output_type": "stream",
     "text": [
      "100%|███████████████████████████████████████████████████████████████████████████████████████████████████████████████████████████████████████████████████| 266/266 [00:03<00:00, 78.09it/s]"
     ]
    },
    {
     "name": "stdout",
     "output_type": "stream",
     "text": [
      "acc: 0.9097744360902256\n",
      "auc: 0.9657414212222284\n",
      "f1: 0.9130434782608695\n",
      "se: 0.9473684210526315\n",
      "sp: 0.8721804511278195\n"
     ]
    },
    {
     "name": "stderr",
     "output_type": "stream",
     "text": [
      "\n"
     ]
    }
   ],
   "source": [
    "new_model.eval()\n",
    "pred_prob = []\n",
    "label_pred = []\n",
    "predict_true = 0\n",
    "\n",
    "sequences, labels = load_tsv('/mnt/8t/jjr/Structural-DPP-IV/data/DPP-IV/test/test.tsv')\n",
    "# sequences, labels = load_tsv('/mnt/8t/jjr/Structural-DPP-IV/data/DPP-IV/train/train.tsv')\n",
    "from tqdm import tqdm\n",
    "# predict sequence one by one\n",
    "for index in tqdm(range(len(sequences))):\n",
    "    # print(\"before success2:\", config.learn_name)\n",
    "    sequence_code = get_one_sequence_code(sequences[index])\n",
    "    logits, representation = new_model(sequence_code)\n",
    "\n",
    "    pred_prob_all = F.softmax(logits, dim=1)  # predict probability [batch_size, class_num]\n",
    "    pred_prob_positive = pred_prob_all[:, 1]  # note, it is very easy to make mistake\n",
    "    pred_prob_sort = torch.max(pred_prob_all, 1)  # max probability in each sample [batch_size]\n",
    "    pred_class = pred_prob_sort[1]  # where max probability site in each sample [batch_size]\n",
    "\n",
    "    pred_prob = pred_prob + pred_prob_positive.tolist()\n",
    "    label_pred = label_pred + pred_class.tolist()\n",
    "\n",
    "acc = accuracy_score(labels, label_pred)\n",
    "auc = roc_auc_score(labels, pred_prob)\n",
    "f1 = f1_score(labels, label_pred)\n",
    "se = recall_score(labels, label_pred)\n",
    "sp = recall_score(labels, label_pred, pos_label=0)\n",
    "\n",
    "print('acc:', acc)\n",
    "print('auc:', auc)\n",
    "print('f1:', f1)\n",
    "print('se:', se)\n",
    "print('sp:', sp)"
   ],
   "metadata": {
    "collapsed": false,
    "pycharm": {
     "name": "#%%\n"
    }
   }
  },
  {
   "cell_type": "markdown",
   "source": [
    "# Permutation Importance"
   ],
   "metadata": {
    "collapsed": false,
    "pycharm": {
     "name": "#%% md\n"
    }
   }
  },
  {
   "cell_type": "code",
   "execution_count": 9,
   "outputs": [],
   "source": [
    "feature_dict = {'symbol':[0,1,2,3], 'degree':[4,5,6], 'num_h':[7,8,9,10], 'num_h_implicit':[11,12,13,14], 'aromatic':[15], 'ring':[16,17], 'hybridization':[18], 'charge_neibor':[19], 'charge':[20]}"
   ],
   "metadata": {
    "collapsed": false,
    "pycharm": {
     "name": "#%%\n"
    }
   }
  },
  {
   "cell_type": "code",
   "execution_count": 13,
   "outputs": [],
   "source": [
    "import numpy as np\n",
    "def get_permutation_dataset(sequences, target_index):\n",
    "# sequences, labels = load_tsv('/mnt/8t/jjr/Structural-DPP-IV/data/DPP-IV/test/test.tsv')\n",
    "    sequences_token_origin = []\n",
    "    sequences_token_permutation = []\n",
    "    for sequence in sequences:\n",
    "        sequences_token_origin.append(get_one_sequence_code(sequence))\n",
    "\n",
    "    permutation_index = np.random.permutation([i for i in range(len(sequences))])\n",
    "\n",
    "    for i in range(len(sequences)):\n",
    "        structural_encode_origin = sequences_token_origin[i][1]\n",
    "        structural_encode_target = sequences_token_origin[permutation_index[i]][1].index_select(1,torch.tensor(target_index).cuda())\n",
    "        structural_encode_permutation = torch.cat((structural_encode_origin[:,:target_index[0],:,:], structural_encode_target, structural_encode_origin[:,target_index[-1]+1:,:,:]),1)\n",
    "\n",
    "        sequences_token_permutation.append([sequences_token_origin[i][0], structural_encode_permutation])\n",
    "\n",
    "    return sequences_token_permutation"
   ],
   "metadata": {
    "collapsed": false,
    "pycharm": {
     "name": "#%%\n"
    }
   }
  },
  {
   "cell_type": "code",
   "execution_count": 37,
   "outputs": [],
   "source": [
    "def permutation_process(target_index, model_parameters=None):\n",
    "    if model_parameters != None:\n",
    "        load_params(new_model, model_parameters)\n",
    "    new_model.eval()\n",
    "    pred_prob = []\n",
    "    label_pred = []\n",
    "    predict_true = 0\n",
    "\n",
    "    sequences, labels = load_tsv('/mnt/8t/jjr/Structural-DPP-IV/data/DPP-IV/test/test.tsv')\n",
    "    sequences_token_permutation = get_permutation_dataset(sequences, target_index)\n",
    "    # sequences, labels = load_tsv('/mnt/8t/jjr/Structural-DPP-IV/data/DPP-IV/train/train.tsv')\n",
    "    from tqdm import tqdm\n",
    "    # predict sequence one by one\n",
    "    for index in range(len(sequences)):\n",
    "        # print(\"before success2:\", config.learn_name)\n",
    "        # sequence_code = get_one_sequence_code(sequences[index])\n",
    "        logits, representation = new_model(sequences_token_permutation[index])\n",
    "\n",
    "        pred_prob_all = F.softmax(logits, dim=1)  # predict probability [batch_size, class_num]\n",
    "        pred_prob_positive = pred_prob_all[:, 1]  # note, it is very easy to make mistake\n",
    "        pred_prob_sort = torch.max(pred_prob_all, 1)  # max probability in each sample [batch_size]\n",
    "        pred_class = pred_prob_sort[1]  # where max probability site in each sample [batch_size]\n",
    "\n",
    "        pred_prob = pred_prob + pred_prob_positive.tolist()\n",
    "        label_pred = label_pred + pred_class.tolist()\n",
    "\n",
    "    acc_permutation_value = accuracy_score(labels, label_pred) -acc\n",
    "    auc_permutation_value = roc_auc_score(labels, pred_prob) - auc\n",
    "    f1_permutation_value = f1_score(labels, label_pred) - f1\n",
    "    se_permutation_value = recall_score(labels, label_pred) -se\n",
    "    sp_permutation_value = recall_score(labels, label_pred, pos_label=0) -sp\n",
    "\n",
    "    return -acc_permutation_value, -auc_permutation_value, -f1_permutation_value, -se_permutation_value, -sp_permutation_value"
   ],
   "metadata": {
    "collapsed": false,
    "pycharm": {
     "name": "#%%\n"
    }
   }
  },
  {
   "cell_type": "code",
   "execution_count": 17,
   "outputs": [],
   "source": [
    "feature_value = {}\n",
    "for feature_name in feature_dict.keys():\n",
    "    acc_permutation_value, auc_permutation_value, f1_permutation_value, se_permutation_value, sp_permutation_value = permutation_process(feature_dict[feature_name])\n",
    "    feature_value[feature_name] = auc_permutation_value"
   ],
   "metadata": {
    "collapsed": false,
    "pycharm": {
     "name": "#%%\n"
    }
   }
  },
  {
   "cell_type": "code",
   "execution_count": 18,
   "outputs": [
    {
     "data": {
      "text/plain": "[('charge_neibor', -0.0007914523149978869),\n ('num_h', -0.001582904629995996),\n ('aromatic', -0.0018090338628525826),\n ('degree', -0.002317824636779875),\n ('ring', -0.0026570184860645885),\n ('symbol', -0.00463564927355975),\n ('num_h_implicit', -0.006896941602125395),\n ('charge', -0.018373000169596865),\n ('hybridization', -0.1349426197071626)]"
     },
     "execution_count": 18,
     "metadata": {},
     "output_type": "execute_result"
    }
   ],
   "source": [
    "sorted(feature_value.items(),key = lambda x:x[1],reverse = True)"
   ],
   "metadata": {
    "collapsed": false,
    "pycharm": {
     "name": "#%%\n"
    }
   }
  },
  {
   "cell_type": "code",
   "execution_count": 48,
   "outputs": [],
   "source": [
    "import pandas as pd\n",
    "# feature_names = ['symbol', 'degree', 'num_h', 'num_h_implicit', 'aromatic', 'ring', 'hybridization', 'charge_neibor', 'charge']\n",
    "feature_values = pd.DataFrame(columns=['feature_name', 'permutation_value'])\n",
    "# feature_value = [0 for i in range(len(feature_names))]\n",
    "num = 0\n"
   ],
   "metadata": {
    "collapsed": false,
    "pycharm": {
     "name": "#%%\n"
    }
   }
  },
  {
   "cell_type": "code",
   "execution_count": 56,
   "outputs": [],
   "source": [
    "for feature_name in feature_dict.keys():\n",
    "    acc_permutation_value, auc_permutation_value, f1_permutation_value, se_permutation_value, sp_permutation_value = permutation_process(feature_dict[feature_name])\n",
    "    # feature_value[feature_names.index(feature_name)] += auc_permutation_value\n",
    "    if acc_permutation_value < 0:\n",
    "        acc_permutation_value = 0\n",
    "    feature_values.loc[num] = [feature_name, acc_permutation_value]\n",
    "    num += 1"
   ],
   "metadata": {
    "collapsed": false,
    "pycharm": {
     "name": "#%%\n"
    }
   }
  },
  {
   "cell_type": "code",
   "execution_count": 57,
   "outputs": [
    {
     "data": {
      "text/plain": "<Figure size 720x432 with 1 Axes>",
      "image/png": "[encoded data removed]"
     },
     "metadata": {},
     "output_type": "display_data"
    }
   ],
   "source": [
    "import seaborn as sns\n",
    "import matplotlib.pyplot as plt\n",
    "sns.set_theme(style=\"ticks\")\n",
    "\n",
    "# Initialize the figure with a logarithmic x axis\n",
    "f, ax = plt.subplots(figsize=(10, 6))\n",
    "ax.set_xscale(\"log\")\n",
    "\n",
    "# Load the example planets dataset\n",
    "# planets = sns.load_dataset(\"planets\")\n",
    "\n",
    "# Plot the orbital period with horizontal boxes\n",
    "sns.boxplot(x=\"permutation_value\", y=\"feature_name\", data=feature_values,\n",
    "            whis=[0, 50], width=.6, palette=\"vlag\")\n",
    "\n",
    "# Add in points to show each observation\n",
    "sns.stripplot(x=\"permutation_value\", y=\"feature_name\", data=feature_values,\n",
    "              size=4, color=\".3\", linewidth=0)\n",
    "\n",
    "# Tweak the visual presentation\n",
    "ax.xaxis.grid(True)\n",
    "ax.set(ylabel=\"\")\n",
    "sns.despine(trim=True, left=True)"
   ],
   "metadata": {
    "collapsed": false,
    "pycharm": {
     "name": "#%%\n"
    }
   }
  },
  {
   "cell_type": "code",
   "execution_count": null,
   "outputs": [],
   "source": [],
   "metadata": {
    "collapsed": false,
    "pycharm": {
     "name": "#%%\n"
    }
   }
  }
 ],
 "metadata": {
  "kernelspec": {
   "display_name": "Python 3",
   "language": "python",
   "name": "python3"
  },
  "language_info": {
   "codemirror_mode": {
    "name": "ipython",
    "version": 2
   },
   "file_extension": ".py",
   "mimetype": "text/x-python",
   "name": "python",
   "nbconvert_exporter": "python",
   "pygments_lexer": "ipython2",
   "version": "2.7.6"
  }
 },
 "nbformat": 4,
 "nbformat_minor": 0
}
