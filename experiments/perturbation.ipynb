{
 "cells": [
  {
   "cell_type": "markdown",
   "source": [
    "# 1. Basic imports and settings"
   ],
   "metadata": {
    "collapsed": false,
    "pycharm": {
     "name": "#%% md\n"
    }
   }
  },
  {
   "cell_type": "code",
   "execution_count": 35,
   "outputs": [],
   "source": [
    "import os\n",
    "import sys\n",
    "import argparse\n",
    "sys.path.append(\"/mnt/8t/jjr/Structural-DPP-IV\")\n",
    "\n",
    "import torch\n",
    "import torch.nn as nn\n",
    "import torch.nn.functional as F\n",
    "import numpy as np\n",
    "from tqdm import tqdm\n",
    "from sklearn.metrics import roc_curve, auc, accuracy_score, precision_score, recall_score, f1_score, roc_auc_score\n",
    "\n",
    "# from model import StructuralDPPIV\n",
    "from config import load_config\n",
    "from config.load_constant import constant\n",
    "from data import StructuralEncode\n",
    "from data import Encode\n",
    "from util import util_draw\n",
    "\n",
    "config_dict = load_config.load_default_args_dict(\"StructuralDPPIV\")\n",
    "config_dict['max_epochs'] = 150\n",
    "config_dict['gpus'] = [3]  # using which GPU to train\n",
    "config_dict['batch_size'] = 32\n",
    "config_dict['lr'] = 0.000005\n",
    "config_dict['model'] = 'StructuralDPPIV'\n",
    "config_dict['log_dir'] = constant['path_log']\n",
    "config_dict['max_seq_len'] = 90\n",
    "args = argparse.Namespace(**config_dict)"
   ],
   "metadata": {
    "collapsed": false,
    "pycharm": {
     "name": "#%%\n"
    }
   }
  },
  {
   "cell_type": "code",
   "execution_count": 36,
   "outputs": [],
   "source": [
    "class StructuralDPPIV(nn.Module):\n",
    "    def __init__(self, config):\n",
    "        super(StructuralDPPIV, self).__init__()\n",
    "        self.StructEncodeModule = Structural(config)\n",
    "        self.TextCNN = TextCNN()\n",
    "\n",
    "        self.classification = nn.Sequential(\n",
    "            nn.Linear(1024, 64),\n",
    "            nn.Dropout(0.5),\n",
    "            nn.ReLU(),\n",
    "            nn.Linear(64, 2)\n",
    "        )\n",
    "        self.Ws = nn.Parameter(torch.randn(1, 1024).cuda(), requires_grad=True)\n",
    "        self.Wh = nn.Parameter(torch.randn(1, 1024).cuda(), requires_grad=True)\n",
    "\n",
    "    def forward(self, x):\n",
    "        TextCNN_Only = False\n",
    "        StructuralEncodingOnly = False\n",
    "        assert not (TextCNN_Only and StructuralEncodingOnly)\n",
    "        if not TextCNN_Only and not StructuralEncodingOnly:\n",
    "            TextCNNEncode = self.TextCNN(x[0])\n",
    "            StructedEncode = self.StructEncodeModule(x[1])\n",
    "            newEncode = TextCNNEncode * StructedEncode\n",
    "            output = self.classification(newEncode)\n",
    "            return output, newEncode\n",
    "        elif TextCNN_Only:\n",
    "            TextCNNEncode = self.TextCNN(x[0])\n",
    "            output = self.classification(TextCNNEncode)\n",
    "            return output, TextCNNEncode\n",
    "        elif StructuralEncodingOnly:\n",
    "            StructedEncode = self.StructEncodeModule(x[1])\n",
    "            output = self.classification(StructedEncode)\n",
    "            return output, StructedEncode\n",
    "\n",
    "\n",
    "class TextCNN(nn.Module):\n",
    "    def __init__(self):\n",
    "        super(TextCNN, self).__init__()\n",
    "        self.visualization = False\n",
    "        vocab_size = 24\n",
    "        dim_embedding = 100\n",
    "        print(f\"[INFO] using CNN config of {dataset_name}\")\n",
    "        # filter_sizes = [1, 2, 4, 8, 16, 24, 32, 48, 64]\n",
    "        filter_sizes = [1, 2]\n",
    "        filter_num = 90\n",
    "        self.embedding = nn.Embedding(vocab_size, dim_embedding)\n",
    "        self.convs = nn.ModuleList(\n",
    "            [nn.Conv2d(1, filter_num, (fsz, dim_embedding)) for fsz in filter_sizes])\n",
    "        self.linear = nn.Linear(filter_num * len(filter_sizes), 1024)\n",
    "\n",
    "    def forward(self, x):\n",
    "        # print(\"\\nx = \\n\", x)\n",
    "        x = self.embedding(x)\n",
    "        x = x.view(x.size(0), 1, x.size(1), -1)\n",
    "        x = [F.relu(conv(x)) for conv in self.convs]\n",
    "\n",
    "        x = [F.max_pool2d(input=x_item, kernel_size=(x_item.size(2), x_item.size(3))) for x_item in x]\n",
    "        x = [x_item.view(x_item.size(0), -1) for x_item in x]\n",
    "        embedding = torch.cat(x, 1)\n",
    "        embedding = self.linear(embedding)\n",
    "\n",
    "        return embedding\n",
    "\n",
    "\n",
    "class Structural(nn.Module):\n",
    "    def __init__(self, config):\n",
    "        super(Structural, self).__init__()\n",
    "        self.config = config\n",
    "        self.inpuchannel = [32, 32, 64]\n",
    "        global dataset_name\n",
    "        dataset_name = 'DPP-IV'\n",
    "        print(f\"[INFO] using Structural config of {dataset_name}\")\n",
    "        self.embedding_dim = 21\n",
    "        global max_seq_len\n",
    "        max_seq_len = config.max_seq_len\n",
    "        self.conv = torch.nn.Conv2d(self.embedding_dim, self.inpuchannel[0], (3, 3), stride=1, padding='same')\n",
    "        # self.conv = torch.nn.Conv2d(19, self.inpuchannel[0], (3, 3), stride=1, padding='same')\n",
    "        self.resBlock1 = resBlock(self.inpuchannel[0], self.inpuchannel[1])\n",
    "        self.resBlock2 = resBlock(self.inpuchannel[1], self.inpuchannel[2], increDimen=True)\n",
    "        self.linear = nn.Linear(23552, 1024)\n",
    "\n",
    "    def forward(self, graph):\n",
    "        # 90 is the max length of sequence, 15 is the number of amino acid, 21 is the number of channel\n",
    "        graph = graph.cuda()  # (batchSize, 90, 15, 21)\n",
    "        graph = graph.transpose(2, 3)  # (batchSize, 90, 21, 15)\n",
    "        graph = graph.transpose(1, 2)   # (batchSize, 21, 90, 15)\n",
    "        representation = self.conv(graph) # (batchSize, 32, 90, 15)\n",
    "        representation = self.resBlock1(representation) # (batchSize, 32, 90, 15)\n",
    "        representation = self.resBlock2(representation) # (batchSize, 64, 46, 8)\n",
    "        representation = representation.flatten(start_dim=1) # (batchSize, 23552)\n",
    "        representation = self.linear(representation) # (batchSize, 1024)\n",
    "        return representation\n",
    "\n",
    "\n",
    "class resBlock(nn.Module):\n",
    "    def __init__(self, inputchannel, outputchannel, increDimen=False):\n",
    "        super(resBlock, self).__init__()\n",
    "        self.increDimen = increDimen\n",
    "        self.inputchannel = inputchannel\n",
    "        self.outputchannel = outputchannel\n",
    "        padding_dim1 = 2 if max_seq_len % 2 == 0 else 1\n",
    "        self.conv = torch.nn.Conv2d(inputchannel, outputchannel, (3, 3), stride=(2, 2), padding=(padding_dim1, 1))\n",
    "        self.conv1 = torch.nn.Conv2d(inputchannel, outputchannel, (3, 3), stride=1, padding='same')\n",
    "        self.batchnorm1 = nn.BatchNorm2d(inputchannel, affine=True)\n",
    "        self.conv2 = torch.nn.Conv2d(outputchannel, outputchannel, (3, 3), stride=1, padding='same')\n",
    "        self.batchnorm2 = nn.BatchNorm2d(outputchannel, affine=True)\n",
    "\n",
    "    def forward(self, feature):\n",
    "        original = feature\n",
    "\n",
    "        if self.increDimen:\n",
    "            feature = F.max_pool2d(input=feature, kernel_size=(2, 2), padding=1)\n",
    "            original = self.conv(original)\n",
    "        feature = self.batchnorm1(feature)\n",
    "        feature = F.relu(feature)\n",
    "        feature = self.conv1(feature)\n",
    "        feature = self.batchnorm2(feature)\n",
    "        feature = F.relu(feature)\n",
    "        feature = self.conv2(feature)\n",
    "        feature = feature + original\n",
    "        return feature"
   ],
   "metadata": {
    "collapsed": false,
    "pycharm": {
     "name": "#%%\n"
    }
   }
  },
  {
   "cell_type": "code",
   "execution_count": 37,
   "outputs": [],
   "source": [
    "def load_params(model, param_path):\n",
    "    pretrained_dict = torch.load(param_path)['state_dict']\n",
    "    # print(pretrained_dict.keys())\n",
    "    new_model_dict = model.state_dict()\n",
    "    # print(new_model_dict.keys())\n",
    "    pretrained_dict = {'.'.join(k.split('.')[1:]): v for k, v in pretrained_dict.items() if '.'.join(k.split('.')[1:]) in new_model_dict}\n",
    "    # pretrained_dict = {k[6:]: v for k, v in pretrained_dict.items() if k[6:] in new_model_dict}\n",
    "    print(pretrained_dict.keys())\n",
    "    new_model_dict.update(pretrained_dict)\n",
    "    model.load_state_dict(new_model_dict)"
   ],
   "metadata": {
    "collapsed": false,
    "pycharm": {
     "name": "#%%\n"
    }
   }
  },
  {
   "cell_type": "code",
   "execution_count": 38,
   "outputs": [],
   "source": [
    "def get_one_sequence_code(sequence = 'YPFPGPIP'):\n",
    "    # sequence = 'YPFPGPIP'\n",
    "\n",
    "    sequence_data_process = Encode.codePeptides([sequence])\n",
    "    sequence_data_length = len(sequence_data_process[0])\n",
    "    sequence_data_padding = np.pad(sequence_data_process[0], (0, 90 - sequence_data_length), 'constant', constant_values=0)\n",
    "    sequence_data = torch.tensor(np.array([sequence_data_padding])).cuda()\n",
    "\n",
    "    Channel = StructuralEncode.convert_to_graph_channel(sequence)\n",
    "    Structure_data = StructuralEncode.convert_to_graph_channel_returning_maxSeqLenx15xfn(Channel, cubeBiased=False,\n",
    "                                                                 maxSeqLen=90, cubeBias=False,\n",
    "                                                                 right_align=False)\n",
    "    tensor_Structure_data = torch.tensor(Structure_data).cuda()\n",
    "    tensor_Structure_data = torch.unsqueeze(tensor_Structure_data, 0)\n",
    "\n",
    "    # sequence_data = sequence_data_process.cuda()\n",
    "    # print(sequence_data)\n",
    "    return [sequence_data, tensor_Structure_data]"
   ],
   "metadata": {
    "collapsed": false,
    "pycharm": {
     "name": "#%%\n"
    }
   }
  },
  {
   "cell_type": "code",
   "execution_count": 39,
   "outputs": [],
   "source": [
    "def load_tsv(filename, skip_head=True):\n",
    "    sequences = []\n",
    "    labels = []\n",
    "    with open(filename, 'r') as file:\n",
    "        if skip_head:\n",
    "            next(file)\n",
    "        for line in file:\n",
    "            if line[-1] == '\\n':\n",
    "                line = line[:-1]\n",
    "            list = line.split('\\t')\n",
    "            sequences.append(list[2])\n",
    "            labels.append(int(list[1]))\n",
    "    return sequences, labels"
   ],
   "metadata": {
    "collapsed": false,
    "pycharm": {
     "name": "#%%\n"
    }
   }
  },
  {
   "cell_type": "code",
   "execution_count": 40,
   "outputs": [
    {
     "name": "stdout",
     "output_type": "stream",
     "text": [
      "[INFO] using Structural config of DPP-IV\n",
      "[INFO] using CNN config of DPP-IV\n",
      "dict_keys(['Ws', 'Wh', 'StructEncodeModule.conv.weight', 'StructEncodeModule.conv.bias', 'StructEncodeModule.resBlock1.conv.weight', 'StructEncodeModule.resBlock1.conv.bias', 'StructEncodeModule.resBlock1.conv1.weight', 'StructEncodeModule.resBlock1.conv1.bias', 'StructEncodeModule.resBlock1.batchnorm1.weight', 'StructEncodeModule.resBlock1.batchnorm1.bias', 'StructEncodeModule.resBlock1.batchnorm1.running_mean', 'StructEncodeModule.resBlock1.batchnorm1.running_var', 'StructEncodeModule.resBlock1.batchnorm1.num_batches_tracked', 'StructEncodeModule.resBlock1.conv2.weight', 'StructEncodeModule.resBlock1.conv2.bias', 'StructEncodeModule.resBlock1.batchnorm2.weight', 'StructEncodeModule.resBlock1.batchnorm2.bias', 'StructEncodeModule.resBlock1.batchnorm2.running_mean', 'StructEncodeModule.resBlock1.batchnorm2.running_var', 'StructEncodeModule.resBlock1.batchnorm2.num_batches_tracked', 'StructEncodeModule.resBlock2.conv.weight', 'StructEncodeModule.resBlock2.conv.bias', 'StructEncodeModule.resBlock2.conv1.weight', 'StructEncodeModule.resBlock2.conv1.bias', 'StructEncodeModule.resBlock2.batchnorm1.weight', 'StructEncodeModule.resBlock2.batchnorm1.bias', 'StructEncodeModule.resBlock2.batchnorm1.running_mean', 'StructEncodeModule.resBlock2.batchnorm1.running_var', 'StructEncodeModule.resBlock2.batchnorm1.num_batches_tracked', 'StructEncodeModule.resBlock2.conv2.weight', 'StructEncodeModule.resBlock2.conv2.bias', 'StructEncodeModule.resBlock2.batchnorm2.weight', 'StructEncodeModule.resBlock2.batchnorm2.bias', 'StructEncodeModule.resBlock2.batchnorm2.running_mean', 'StructEncodeModule.resBlock2.batchnorm2.running_var', 'StructEncodeModule.resBlock2.batchnorm2.num_batches_tracked', 'StructEncodeModule.linear.weight', 'StructEncodeModule.linear.bias', 'TextCNN.embedding.weight', 'TextCNN.convs.0.weight', 'TextCNN.convs.0.bias', 'TextCNN.convs.1.weight', 'TextCNN.convs.1.bias', 'TextCNN.linear.weight', 'TextCNN.linear.bias', 'classification.0.weight', 'classification.0.bias', 'classification.3.weight', 'classification.3.bias'])\n"
     ]
    }
   ],
   "source": [
    "new_model = StructuralDPPIV(args).cuda()\n",
    "load_params(new_model, '/mnt/8t/jjr/Structural-DPP-IV/main/log/StructuralDPPIV/version_3/checkpoints/epoch=73,step=2442,val_SE_epoch=0.95,val_SP_epoch=0.87,val_F1_epoch=0.91,val_AUC_epoch=1.00.ckpt')"
   ],
   "metadata": {
    "collapsed": false,
    "pycharm": {
     "name": "#%%\n"
    }
   }
  },
  {
   "cell_type": "code",
   "execution_count": 155,
   "outputs": [
    {
     "data": {
      "text/plain": "tensor([[0.9917, 0.0083]], device='cuda:0', grad_fn=<SoftmaxBackward0>)"
     },
     "execution_count": 155,
     "metadata": {},
     "output_type": "execute_result"
    }
   ],
   "source": [
    "new_model.eval()\n",
    "DATA = get_one_sequence_code('NYIVPEDKREMWMACIAELH')\n",
    "output, embedding = new_model(DATA)\n",
    "pred_prob_all = F.softmax(output, dim=1)  # predict probability [batch_size, class_num]\n",
    "pred_prob_all"
   ],
   "metadata": {
    "collapsed": false,
    "pycharm": {
     "name": "#%%\n"
    }
   }
  },
  {
   "cell_type": "code",
   "execution_count": 42,
   "outputs": [
    {
     "name": "stderr",
     "output_type": "stream",
     "text": [
      "100%|███████████████████████████████████████████████████████████████████████████████████████████████████████████████████████████████████████████████████████████████████████████████████████████████████████████████████████████████████| 266/266 [00:03<00:00, 85.40it/s]"
     ]
    },
    {
     "name": "stdout",
     "output_type": "stream",
     "text": [
      "acc: 0.9097744360902256\n",
      "auc: 0.9657414212222284\n",
      "f1: 0.9130434782608695\n",
      "se: 0.9473684210526315\n",
      "sp: 0.8721804511278195\n"
     ]
    },
    {
     "name": "stderr",
     "output_type": "stream",
     "text": [
      "\n"
     ]
    }
   ],
   "source": [
    "pred_prob = []\n",
    "label_pred = []\n",
    "predict_true = 0\n",
    "\n",
    "sequences, labels = load_tsv('/mnt/8t/jjr/Structural-DPP-IV/data/DPP-IV/test/test.tsv')\n",
    "# sequences, labels = load_tsv('/mnt/8t/jjr/Structural-DPP-IV/data/DPP-IV/train/train.tsv')\n",
    "from tqdm import tqdm\n",
    "# predict sequence one by one\n",
    "for index in tqdm(range(len(sequences))):\n",
    "    # print(\"before success2:\", config.learn_name)\n",
    "    sequence_code = get_one_sequence_code(sequences[index])\n",
    "    logits, representation = new_model(sequence_code)\n",
    "\n",
    "    pred_prob_all = F.softmax(logits, dim=1)  # predict probability [batch_size, class_num]\n",
    "    pred_prob_positive = pred_prob_all[:, 1]  # note, it is very easy to make mistake\n",
    "    pred_prob_sort = torch.max(pred_prob_all, 1)  # max probability in each sample [batch_size]\n",
    "    pred_class = pred_prob_sort[1]  # where max probability site in each sample [batch_size]\n",
    "\n",
    "    pred_prob = pred_prob + pred_prob_positive.tolist()\n",
    "    label_pred = label_pred + pred_class.tolist()\n",
    "\n",
    "acc = accuracy_score(labels, label_pred)\n",
    "auc = roc_auc_score(labels, pred_prob)\n",
    "f1 = f1_score(labels, label_pred)\n",
    "se = recall_score(labels, label_pred)\n",
    "sp = recall_score(labels, label_pred, pos_label=0)\n",
    "\n",
    "print('acc:', acc)\n",
    "print('auc:', auc)\n",
    "print('f1:', f1)\n",
    "print('se:', se)\n",
    "print('sp:', sp)"
   ],
   "metadata": {
    "collapsed": false,
    "pycharm": {
     "name": "#%%\n"
    }
   }
  },
  {
   "cell_type": "markdown",
   "source": [
    "# 2. Perturbation analysis"
   ],
   "metadata": {
    "collapsed": false,
    "pycharm": {
     "name": "#%% md\n"
    }
   }
  },
  {
   "cell_type": "code",
   "execution_count": 43,
   "outputs": [],
   "source": [
    "aa_dict = {'A': 1, 'R': 2, 'N': 3, 'D': 4, 'C': 5, 'Q': 6, 'E': 7, 'G': 8, 'H': 9, 'I': 10,\n",
    "           'L': 11, 'K': 12, 'M': 13, 'F': 14, 'P': 15, 'S': 17, 'T': 19,\n",
    "           'W': 20, 'Y': 21, 'V': 22, 'X': 23}\n",
    "aa_list = list(aa_dict.keys())\n",
    "aa_list.remove('X')"
   ],
   "metadata": {
    "collapsed": false,
    "pycharm": {
     "name": "#%%\n"
    }
   }
  },
  {
   "cell_type": "code",
   "execution_count": 164,
   "outputs": [],
   "source": [
    "import copy\n",
    "def perturbation_process():\n",
    "    sequences, labels = load_tsv('/mnt/8t/jjr/Structural-DPP-IV/data/DPP-IV/test/test.tsv')\n",
    "\n",
    "    save_data_abs = []\n",
    "    save_data_normal = []\n",
    "    iter_sequences = sequences\n",
    "\n",
    "    for k in tqdm(range(len(iter_sequences))):\n",
    "        iter_sequence_origin = iter_sequences[k]\n",
    "        iter_sequence_len = len(iter_sequence_origin)\n",
    "        result_matrix_abs = np.zeros((len(aa_list), len(iter_sequence_origin)))\n",
    "        result_matrix_normal = np.zeros((len(aa_list), len(iter_sequence_origin)))\n",
    "\n",
    "        sequence_code_origin = get_one_sequence_code(iter_sequence_origin)\n",
    "        with torch.no_grad():\n",
    "            output, feature = new_model(sequence_code_origin)\n",
    "        output = torch.softmax(output, dim=1)[0][1].item()\n",
    "\n",
    "        for i in range(0, iter_sequence_len):\n",
    "            for j in range(len(aa_list)):\n",
    "                iter_sequence_perturbation = copy.copy(iter_sequence_origin)\n",
    "                iter_sequence_perturbation = iter_sequence_perturbation[:i] + aa_list[j] + iter_sequence_perturbation[i + 1:]\n",
    "                sequence_code_perturbation = get_one_sequence_code(iter_sequence_perturbation)\n",
    "                with torch.no_grad():\n",
    "                    output_perturbation, feature = new_model(sequence_code_perturbation)\n",
    "                output_perturbation = torch.softmax(output_perturbation, dim=1)[0][1].item()\n",
    "\n",
    "                # 计算差异\n",
    "                # diff = output_modification - output\n",
    "                diff_abs = abs(output_perturbation - output)\n",
    "                diff_normal = output_perturbation - output\n",
    "\n",
    "                result_matrix_abs[j][i] = diff_abs\n",
    "                result_matrix_normal[j][i] = diff_normal\n",
    "        save_data_abs.append([result_matrix_abs, iter_sequence_origin])\n",
    "        save_data_normal.append([result_matrix_normal, iter_sequence_origin])\n",
    "\n",
    "    torch.save(save_data_abs, '/mnt/8t/jjr/Structural-DPP-IV/experiments/save_data/abs_test.pt')\n",
    "    torch.save(save_data_normal, '/mnt/8t/jjr/Structural-DPP-IV/experiments/save_data/normal_test.pt')"
   ],
   "metadata": {
    "collapsed": false,
    "pycharm": {
     "name": "#%%\n"
    }
   }
  },
  {
   "cell_type": "code",
   "execution_count": 165,
   "outputs": [
    {
     "name": "stderr",
     "output_type": "stream",
     "text": [
      "100%|███████████████████████████████████████████████████████████████████████████████████████████████████████████████████████████████████████████████████████████████████████████████████████████████████████████████████████████████████| 266/266 [14:55<00:00,  3.37s/it]\n"
     ]
    }
   ],
   "source": [
    "perturbation_process()"
   ],
   "metadata": {
    "collapsed": false,
    "pycharm": {
     "name": "#%%\n"
    }
   }
  },
  {
   "cell_type": "code",
   "execution_count": 167,
   "outputs": [],
   "source": [
    "perturbation_abs_data_sequences = torch.load('/mnt/8t/jjr/Structural-DPP-IV/experiments/save_data/abs_test.pt')\n",
    "perturbation_normal_data_sequences = torch.load('/mnt/8t/jjr/Structural-DPP-IV/experiments/save_data/normal_test.pt')"
   ],
   "metadata": {
    "collapsed": false,
    "pycharm": {
     "name": "#%%\n"
    }
   }
  },
  {
   "cell_type": "code",
   "execution_count": 174,
   "outputs": [
    {
     "data": {
      "text/plain": "266"
     },
     "execution_count": 174,
     "metadata": {},
     "output_type": "execute_result"
    }
   ],
   "source": [
    "len(perturbation_abs_data_sequences)"
   ],
   "metadata": {
    "collapsed": false,
    "pycharm": {
     "name": "#%%\n"
    }
   }
  },
  {
   "cell_type": "markdown",
   "source": [
    "# 2.1 position importance"
   ],
   "metadata": {
    "collapsed": false,
    "pycharm": {
     "name": "#%% md\n"
    }
   }
  },
  {
   "cell_type": "code",
   "execution_count": 203,
   "outputs": [],
   "source": [
    "cut_number = 25\n",
    "sequences_position_value = [[] for i in range(cut_number)]\n",
    "all_sequences = perturbation_abs_data_sequences\n",
    "for sequence_data in all_sequences:\n",
    "    matrix = sequence_data[0]\n",
    "    result_matrix = matrix.sum(axis = 0)\n",
    "    # matrix = matrix * -1\n",
    "    # matrix = matrix.tolist()\n",
    "    # print(result_matrix)\n",
    "    sequence_position_value = [0 for i in range(cut_number)]\n",
    "    if len(result_matrix) < cut_number:\n",
    "        for i in range(len(sequence_position_value)):\n",
    "            position = int(i / cut_number * len(result_matrix))\n",
    "            if position == len(result_matrix):\n",
    "                position = len(result_matrix) - 1\n",
    "            # print(result_matrix[position].item())\n",
    "            # print(position)\n",
    "            sequence_position_value[i] += result_matrix[position].item()\n",
    "    elif len(result_matrix) >= cut_number:\n",
    "        for i in range(len(result_matrix)):\n",
    "            position = int(i / len(result_matrix) * cut_number)\n",
    "            if position == cut_number:\n",
    "                position = cut_number - 1\n",
    "            sequence_position_value[position] += result_matrix[i].item()\n",
    "\n",
    "\n",
    "    for i in range(len(sequences_position_value)):\n",
    "        sequences_position_value[i].append(sequence_position_value[i])"
   ],
   "metadata": {
    "collapsed": false,
    "pycharm": {
     "name": "#%%\n"
    }
   }
  },
  {
   "cell_type": "code",
   "execution_count": 204,
   "outputs": [
    {
     "data": {
      "text/plain": "<Figure size 864x216 with 1 Axes>",
      "image/png": "[encoded data removed]"
     },
     "metadata": {
      "needs_background": "light"
     },
     "output_type": "display_data"
    }
   ],
   "source": [
    "import matplotlib.pyplot as plt\n",
    "def plot_box_now(data, keys):\n",
    "\n",
    "#     plt.grid(b=None)\n",
    "\n",
    "    plt.figure(figsize=(12, 3))  # 画布\n",
    "    ax=plt.axes()\n",
    "    ax.grid(False)\n",
    "    ax.boxplot(data,\n",
    "                keys,  # 为箱线图添加标签，类似于图例的作用\n",
    "                '',\n",
    "#                 sym=\"g+\",  # 异常点形状，默认为蓝色的“+”\n",
    "                showmeans=True  # 是否显示均值，默认不显示\n",
    "                )\n",
    "\n",
    "    plt.show()\n",
    "plot_box_now(sequences_position_value, [i for i in range(cut_number)])"
   ],
   "metadata": {
    "collapsed": false,
    "pycharm": {
     "name": "#%%\n"
    }
   }
  },
  {
   "cell_type": "code",
   "execution_count": 202,
   "outputs": [
    {
     "name": "stdout",
     "output_type": "stream",
     "text": [
      "133\n"
     ]
    },
    {
     "data": {
      "text/plain": "266"
     },
     "execution_count": 202,
     "metadata": {},
     "output_type": "execute_result"
    }
   ],
   "source": [
    "sequences, labels = load_tsv('/mnt/8t/jjr/Structural-DPP-IV/data/DPP-IV/test/test.tsv')\n",
    "print(labels.index(0))\n",
    "len(labels)"
   ],
   "metadata": {
    "collapsed": false,
    "pycharm": {
     "name": "#%%\n"
    }
   }
  },
  {
   "cell_type": "markdown",
   "source": [
    "# 2.2 not cut sequence"
   ],
   "metadata": {
    "collapsed": false,
    "pycharm": {
     "name": "#%% md\n"
    }
   }
  },
  {
   "cell_type": "code",
   "execution_count": 207,
   "outputs": [],
   "source": [
    "# not cut sequence\n",
    "sequences_position_origin_value = [0 for i in range(90)]\n",
    "sequences_position_origin_count = [1 for i in range(90)]\n",
    "for sequence_data in all_sequences:\n",
    "    matrix = sequence_data[0]\n",
    "    result_matrix = matrix.sum(axis = 0)\n",
    "\n",
    "    for i in range(len(result_matrix)):\n",
    "        sequences_position_origin_value[i] += result_matrix[i].item()\n",
    "        sequences_position_origin_count[i] = sequences_position_origin_count[i] + 1\n",
    "\n",
    "for i in range(len(sequences_position_origin_value)):\n",
    "    sequences_position_origin_value[i] = sequences_position_origin_value[i] / sequences_position_origin_count[i]\n"
   ],
   "metadata": {
    "collapsed": false,
    "pycharm": {
     "name": "#%%\n"
    }
   }
  },
  {
   "cell_type": "code",
   "execution_count": 208,
   "outputs": [
    {
     "name": "stdout",
     "output_type": "stream",
     "text": [
      "[267, 267, 216, 202, 197, 178, 157, 146, 138, 124, 112, 103, 94, 86, 83, 56, 48, 44, 34, 33, 16, 15, 14, 13, 11, 11, 11, 11, 11, 10, 8, 8, 8, 7, 7, 7, 6, 5, 5, 4, 3, 3, 3, 2, 2, 2, 2, 2, 2, 2, 2, 2, 2, 2, 2, 2, 2, 2, 2, 2, 2, 2, 2, 2, 2, 2, 2, 2, 2, 2, 2, 2, 2, 2, 2, 1, 1, 1, 1, 1, 1, 1, 1, 1, 1, 1, 1, 1, 1, 1]\n"
     ]
    }
   ],
   "source": [
    "print(sequences_position_origin_count)"
   ],
   "metadata": {
    "collapsed": false,
    "pycharm": {
     "name": "#%%\n"
    }
   }
  },
  {
   "cell_type": "code",
   "execution_count": 209,
   "outputs": [
    {
     "data": {
      "text/plain": "[<matplotlib.lines.Line2D at 0x7fb110271330>]"
     },
     "execution_count": 209,
     "metadata": {},
     "output_type": "execute_result"
    },
    {
     "data": {
      "text/plain": "<Figure size 432x288 with 1 Axes>",
      "image/png": "[encoded data removed]"
     },
     "metadata": {
      "needs_background": "light"
     },
     "output_type": "display_data"
    }
   ],
   "source": [
    "plt.plot(sequences_position_origin_value[:20])"
   ],
   "metadata": {
    "collapsed": false,
    "pycharm": {
     "name": "#%%\n"
    }
   }
  },
  {
   "cell_type": "markdown",
   "source": [
    "# 3. amino acid analysis\n",
    "## 3.1. abs_data"
   ],
   "metadata": {
    "collapsed": false,
    "pycharm": {
     "name": "#%% md\n"
    }
   }
  },
  {
   "cell_type": "code",
   "execution_count": 210,
   "outputs": [],
   "source": [
    "perturbation_abs_data_sequences = torch.load('/mnt/8t/jjr/Structural-DPP-IV/experiments/save_data/abs_test.pt')\n",
    "perturbation_normal_data_sequences = torch.load('/mnt/8t/jjr/Structural-DPP-IV/experiments/save_data/normal_test.pt')"
   ],
   "metadata": {
    "collapsed": false,
    "pycharm": {
     "name": "#%%\n"
    }
   }
  },
  {
   "cell_type": "code",
   "execution_count": 213,
   "outputs": [],
   "source": [
    "abs_negative = perturbation_abs_data_sequences[labels.index(0):]\n",
    "aa_value_each_negative_sequence = []\n",
    "for sequence_data in abs_negative:\n",
    "    matrix = sequence_data[0]\n",
    "    matrix = matrix.sum(axis = 1)\n",
    "#     matrix = matrix * -1\n",
    "    matrix = matrix.tolist()\n",
    "    aa_value_each_negative_sequence.append(matrix)\n",
    "\n",
    "abs_aa_value_origin_negative_sequence = np.array(aa_value_each_negative_sequence).sum(axis=0)\n",
    "for i in range(len(abs_aa_value_origin_negative_sequence)):\n",
    "    abs_aa_value_negative = (abs_aa_value_origin_negative_sequence - np.min(abs_aa_value_origin_negative_sequence)) / (\n",
    "            np.max(abs_aa_value_origin_negative_sequence) - np.min(abs_aa_value_origin_negative_sequence))"
   ],
   "metadata": {
    "collapsed": false,
    "pycharm": {
     "name": "#%%\n"
    }
   }
  },
  {
   "cell_type": "code",
   "execution_count": 214,
   "outputs": [],
   "source": [
    "abs_positive = perturbation_abs_data_sequences[:labels.index(0)]\n",
    "aa_value_each_positive_sequence = []\n",
    "for sequence_data in abs_positive:\n",
    "    matrix = sequence_data[0]\n",
    "    matrix = matrix.sum(axis = 1)\n",
    "#     matrix = matrix * -1\n",
    "    matrix = matrix.tolist()\n",
    "    aa_value_each_positive_sequence.append(matrix)\n",
    "\n",
    "abs_aa_value_origin_positive_sequence = np.array(aa_value_each_positive_sequence).sum(axis=0)\n",
    "for i in range(len(abs_aa_value_origin_positive_sequence)):\n",
    "    abs_aa_value_positive = (abs_aa_value_origin_positive_sequence - np.min(abs_aa_value_origin_positive_sequence)) / (\n",
    "            np.max(abs_aa_value_origin_positive_sequence) - np.min(abs_aa_value_origin_positive_sequence))"
   ],
   "metadata": {
    "collapsed": false,
    "pycharm": {
     "name": "#%%\n"
    }
   }
  },
  {
   "cell_type": "code",
   "execution_count": 215,
   "outputs": [
    {
     "name": "stdout",
     "output_type": "stream",
     "text": [
      "706\n",
      "2065\n"
     ]
    }
   ],
   "source": [
    "count_aa_neg = 0\n",
    "count_aa_pos = 0\n",
    "for sequence in sequences[:labels.index(0)]:\n",
    "    count_aa_pos += len(sequence)\n",
    "for sequence in sequences[labels.index(0):]:\n",
    "    count_aa_neg += len(sequence)\n",
    "print(count_aa_pos)\n",
    "print(count_aa_neg)"
   ],
   "metadata": {
    "collapsed": false,
    "pycharm": {
     "name": "#%%\n"
    }
   }
  },
  {
   "cell_type": "code",
   "execution_count": 216,
   "outputs": [],
   "source": [
    "abs_aa_value_origin_avg_positive_sequence = abs_aa_value_origin_positive_sequence / count_aa_pos\n",
    "abs_aa_value_origin_avg_negative_sequence = abs_aa_value_origin_negative_sequence / count_aa_neg"
   ],
   "metadata": {
    "collapsed": false,
    "pycharm": {
     "name": "#%%\n"
    }
   }
  },
  {
   "cell_type": "code",
   "execution_count": 217,
   "outputs": [
    {
     "name": "stdout",
     "output_type": "stream",
     "text": [
      "A 37.28889890015125 51.39230017056252\n",
      "A 0.052817137252338886 0.024887312431265143\n",
      "==================================\n",
      "R 67.55943594872952 69.65590276470175\n",
      "R 0.09569325205202481 0.0337316720410178\n",
      "==================================\n",
      "N 37.621699035167694 53.16975567611371\n",
      "N 0.053288525545563306 0.025748065702718502\n",
      "==================================\n",
      "D 35.37339295446873 52.69961123209214\n",
      "D 0.05010395602615967 0.02552039284847077\n",
      "==================================\n",
      "C 39.75159692764282 49.61146239528898\n",
      "C 0.05630537808447992 0.02402492125679854\n",
      "==================================\n",
      "Q 32.98174495995045 62.32208435684879\n",
      "Q 0.04671635263449072 0.030180186129224598\n",
      "==================================\n",
      "E 40.3029819726944 59.483377323929744\n",
      "E 0.05708637673186175 0.028805509599965976\n",
      "==================================\n",
      "G 41.238871455192566 54.67182070670242\n",
      "G 0.05841199922831808 0.02647545796934742\n",
      "==================================\n",
      "H 50.0004627853632 55.391026240366045\n",
      "H 0.0708221852483898 0.026823741520758376\n",
      "==================================\n",
      "I 40.47763633728027 53.85540417519951\n",
      "I 0.05733376251739415 0.026080098874188624\n",
      "==================================\n",
      "L 30.723435133695602 51.600191354431445\n",
      "L 0.04351761350381814 0.024987986128053967\n",
      "==================================\n",
      "K 45.093177780508995 55.92077710165904\n",
      "K 0.06387135662961614 0.02708027946811576\n",
      "==================================\n",
      "M 34.404613107442856 59.737973216950195\n",
      "M 0.048731746611108864 0.028928800589322127\n",
      "==================================\n",
      "F 39.416508972644806 53.85947550067067\n",
      "F 0.05583074925303797 0.026082070460373204\n",
      "==================================\n",
      "P 31.215471148490906 68.3860094872216\n",
      "P 0.04421454836896729 0.033116711616087945\n",
      "==================================\n",
      "S 36.773902893066406 49.514189100053045\n",
      "S 0.05208768115165213 0.023977815544819876\n",
      "==================================\n",
      "T 38.774202436208725 55.42758255882654\n",
      "T 0.05492096662352511 0.026841444338414792\n",
      "==================================\n",
      "W 60.59201896190643 67.749918850619\n",
      "W 0.08582438946445671 0.032808677409500726\n",
      "==================================\n",
      "Y 61.33831927925348 65.0734813584786\n",
      "Y 0.08688147206693128 0.03151258177166034\n",
      "==================================\n",
      "V 36.245572313666344 52.87843926771893\n",
      "V 0.051339337554768195 0.02560699238146195\n",
      "==================================\n"
     ]
    }
   ],
   "source": [
    "for i in range(len(aa_list)):\n",
    "    # print(aa_list[i],abs_aa_value_positive[i], abs_aa_value_negative[i])\n",
    "    print(aa_list[i], abs_aa_value_origin_positive_sequence[i], abs_aa_value_origin_negative_sequence[i])\n",
    "    print(aa_list[i], abs_aa_value_origin_avg_positive_sequence[i], abs_aa_value_origin_avg_negative_sequence[i])\n",
    "    print(\"==================================\")\n"
   ],
   "metadata": {
    "collapsed": false,
    "pycharm": {
     "name": "#%%\n"
    }
   }
  },
  {
   "cell_type": "markdown",
   "source": [
    "## 3.2. normal_data"
   ],
   "metadata": {
    "collapsed": false,
    "pycharm": {
     "name": "#%% md\n"
    }
   }
  },
  {
   "cell_type": "code",
   "execution_count": 218,
   "outputs": [],
   "source": [
    "normal_negative = perturbation_normal_data_sequences[labels.index(0):]\n",
    "aa_value_each_negative_sequence = []\n",
    "for sequence_data in normal_negative:\n",
    "    matrix = sequence_data[0]\n",
    "    matrix = matrix.sum(axis = 1)\n",
    "#     matrix = matrix * -1\n",
    "    matrix = matrix.tolist()\n",
    "    aa_value_each_negative_sequence.append(matrix)\n",
    "\n",
    "normal_aa_value_origin_negative_sequence = np.array(aa_value_each_negative_sequence).sum(axis=0)\n",
    "for i in range(len(normal_aa_value_origin_negative_sequence)):\n",
    "    normal_aa_value_negative = (normal_aa_value_origin_negative_sequence - np.min(normal_aa_value_origin_negative_sequence)) / (\n",
    "            np.max(normal_aa_value_origin_negative_sequence) - np.min(normal_aa_value_origin_negative_sequence))"
   ],
   "metadata": {
    "collapsed": false,
    "pycharm": {
     "name": "#%%\n"
    }
   }
  },
  {
   "cell_type": "code",
   "execution_count": 219,
   "outputs": [],
   "source": [
    "normal_positive = perturbation_normal_data_sequences[:labels.index(0)]\n",
    "aa_value_each_positive_sequence = []\n",
    "for sequence_data in normal_positive:\n",
    "    matrix = sequence_data[0]\n",
    "    matrix = matrix.sum(axis = 1)\n",
    "#     matrix = matrix * -1\n",
    "    matrix = matrix.tolist()\n",
    "    aa_value_each_positive_sequence.append(matrix)\n",
    "\n",
    "normal_aa_value_origin_positive_sequence = np.array(aa_value_each_positive_sequence).sum(axis=0)\n",
    "for i in range(len(normal_aa_value_origin_positive_sequence)):\n",
    "    normal_aa_value_positive = (normal_aa_value_origin_positive_sequence - np.min(normal_aa_value_origin_positive_sequence)) / (\n",
    "            np.max(normal_aa_value_origin_positive_sequence) - np.min(normal_aa_value_origin_positive_sequence))"
   ],
   "metadata": {
    "collapsed": false,
    "pycharm": {
     "name": "#%%\n"
    }
   }
  },
  {
   "cell_type": "code",
   "execution_count": 224,
   "outputs": [],
   "source": [
    "normal_aa_value_origin_avg_positive_sequence = normal_aa_value_origin_positive_sequence / count_aa_pos\n",
    "normal_aa_value_origin_avg_negative_sequence = normal_aa_value_origin_negative_sequence / count_aa_neg"
   ],
   "metadata": {
    "collapsed": false,
    "pycharm": {
     "name": "#%%\n"
    }
   }
  },
  {
   "cell_type": "code",
   "execution_count": 225,
   "outputs": [
    {
     "name": "stdout",
     "output_type": "stream",
     "text": [
      "A -10.61808954179287 1.8109338471185765\n",
      "A -0.015039786886392166 0.0008769655433988264\n",
      "==================================\n",
      "R -60.20052649080753 -34.6636873773823\n",
      "R -0.08526986755071889 -0.016786289286867942\n",
      "==================================\n",
      "N -13.307335764169693 -2.5158114519363153\n",
      "N -0.018848917512988235 -0.0012183106304776345\n",
      "==================================\n",
      "D -4.818351045250893 2.7573376438813284\n",
      "D -0.006824859837465854 0.001335272466770619\n",
      "==================================\n",
      "C -25.47967156767845 -15.014921125082765\n",
      "C -0.03609018635648506 -0.007271148244592138\n",
      "==================================\n",
      "Q -8.51264674961567 29.80525851215498\n",
      "Q -0.012057573299738908 0.014433539231067787\n",
      "==================================\n",
      "E -6.662897616624832 16.51188045753952\n",
      "E -0.009437532034879365 0.007996068018178943\n",
      "==================================\n",
      "G -15.741430759429932 10.15349012929073\n",
      "G -0.022296644135169876 0.004916944372537884\n",
      "==================================\n",
      "H -38.94452349841595 -24.355556799127953\n",
      "H -0.05516221458699143 -0.011794458498367048\n",
      "==================================\n",
      "I -20.47167694568634 -19.428900634251477\n",
      "I -0.028996709554796517 -0.009408668588015243\n",
      "==================================\n",
      "L 6.794733792543411 20.406983352761017\n",
      "L 0.009624268827965172 0.00988231639358887\n",
      "==================================\n",
      "K -31.606817081570625 -16.04841031801334\n",
      "K -0.04476886272177143 -0.007771627272645684\n",
      "==================================\n",
      "M 16.846624046564102 36.027046571223764\n",
      "M 0.023862073720345753 0.017446511656766955\n",
      "==================================\n",
      "F -20.15289008617401 -2.8934712972768466\n",
      "F -0.028545170093730893 -0.0014011967541292234\n",
      "==================================\n",
      "P 7.5334250926971436 50.08421419157821\n",
      "P 0.010670573785690005 0.024253856751369596\n",
      "==================================\n",
      "S -11.849744498729706 -1.3982322562806075\n",
      "S -0.01678434064975879 -0.0006771100514676065\n",
      "==================================\n",
      "T -18.330276757478714 -7.046466591506032\n",
      "T -0.025963564812292797 -0.0034123324898334296\n",
      "==================================\n",
      "W -48.739801317453384 -45.7753372729203\n",
      "W -0.06903654577542973 -0.022167233546208375\n",
      "==================================\n",
      "Y -54.057068444788456 -42.6737524961718\n",
      "Y -0.07656808561584767 -0.02066525544608804\n",
      "==================================\n",
      "V -15.981385871767998 -0.07848705316428095\n",
      "V -0.02263652389768838 -3.800825819093508e-05\n",
      "==================================\n"
     ]
    }
   ],
   "source": [
    "for i in range(len(aa_list)):\n",
    "    # print(aa_list[i],normal_aa_value_positive[i], normal_aa_value_negative[i], normal_aa_value_origin_positive_sequence[i], normal_aa_value_origin_negative_sequence[i])\n",
    "    print(aa_list[i],normal_aa_value_origin_positive_sequence[i], normal_aa_value_origin_negative_sequence[i])\n",
    "    print(aa_list[i],normal_aa_value_origin_avg_positive_sequence[i], normal_aa_value_origin_avg_negative_sequence[i])\n",
    "    print(\"==================================\")"
   ],
   "metadata": {
    "collapsed": false,
    "pycharm": {
     "name": "#%%\n"
    }
   }
  },
  {
   "cell_type": "markdown",
   "source": [
    "# 3.3 AAC"
   ],
   "metadata": {
    "collapsed": false,
    "pycharm": {
     "name": "#%% md\n"
    }
   }
  },
  {
   "cell_type": "code",
   "execution_count": 94,
   "outputs": [
    {
     "name": "stdout",
     "output_type": "stream",
     "text": [
      "{'A': 0.08104196816208394, 'R': 0.056439942112879886, 'N': 0.03569705740472745, 'D': 0.04003859141341052, 'C': 0.03907380607814761, 'Q': 0.036661842739990354, 'E': 0.05451037144235408, 'G': 0.07284129281234925, 'H': 0.02604920405209841, 'I': 0.06222865412445731, 'L': 0.08345393150024119, 'K': 0.08055957549445249, 'M': 0.019778099372889532, 'F': 0.0472744814278823, 'P': 0.06849975880366618, 'S': 0.056439942112879886, 'T': 0.03907380607814761, 'W': 0.010130246020260492, 'Y': 0.028461167390255667, 'V': 0.05788712011577424}\n",
      "{'A': 0.05240793201133145, 'R': 0.0339943342776204, 'N': 0.0339943342776204, 'D': 0.029745042492917848, 'C': 0.009915014164305949, 'Q': 0.060906515580736544, 'E': 0.04815864022662889, 'G': 0.053824362606232294, 'H': 0.029745042492917848, 'I': 0.05240793201133145, 'L': 0.10623229461756374, 'K': 0.039660056657223795, 'M': 0.026912181303116147, 'F': 0.042492917847025496, 'P': 0.1501416430594901, 'S': 0.039660056657223795, 'T': 0.04107648725212465, 'W': 0.0339943342776204, 'Y': 0.039660056657223795, 'V': 0.07507082152974505}\n"
     ]
    }
   ],
   "source": [
    "def read_sequence(path):\n",
    "    positive_sequences = []\n",
    "    negative_sequences = []\n",
    "\n",
    "    with open(path, 'r') as f:\n",
    "        for line in f:\n",
    "            line = line.strip()\n",
    "            if line:\n",
    "                line = line.split('\\t')\n",
    "                if line[1] == '1':\n",
    "                    positive_sequences.append(line[2])\n",
    "                else:\n",
    "                    negative_sequences.append(line[2])\n",
    "    return positive_sequences, negative_sequences\n",
    "\n",
    "\n",
    "def AAC_frequency(data):\n",
    "    frequency = {}\n",
    "    frequency_list = []\n",
    "    num = 0\n",
    "    for i in data:\n",
    "        seq = i\n",
    "        for a in seq:\n",
    "            if a in frequency.keys():\n",
    "                frequency[a] += 1\n",
    "            else:\n",
    "                frequency[a] = 1\n",
    "            num += 1\n",
    "\n",
    "    name_list = aa_list\n",
    "    output_list = {}\n",
    "    all_f = 0\n",
    "    for i, order in enumerate(name_list):\n",
    "        frequency_list.append(frequency[order])\n",
    "        output_list[order] = frequency[order] / num\n",
    "        all_f += frequency[order] / num\n",
    "\n",
    "    return output_list\n",
    "\n",
    "positive_sequences, negative_sequences = read_sequence('/mnt/8t/jjr/Structural-DPP-IV/data/DPP-IV/test/test.tsv')\n",
    "AAC_frequency_positive = AAC_frequency(positive_sequences)\n",
    "AAC_frequency_negative = AAC_frequency(negative_sequences)\n",
    "AAC_frequency_all = AAC_frequency(sequences)\n",
    "print(AAC_frequency_negative)\n",
    "print(AAC_frequency_positive)"
   ],
   "metadata": {
    "collapsed": false,
    "pycharm": {
     "name": "#%%\n"
    }
   }
  },
  {
   "cell_type": "code",
   "execution_count": 75,
   "outputs": [
    {
     "data": {
      "text/plain": "tensor([[0.2972, 0.7028]], device='cuda:0', grad_fn=<SoftmaxBackward0>)"
     },
     "execution_count": 75,
     "metadata": {},
     "output_type": "execute_result"
    }
   ],
   "source": [
    "new_model.eval()\n",
    "DATA = get_one_sequence_code('LMMMMMMGQIM')\n",
    "output, embedding = new_model(DATA)\n",
    "pred_prob_all = F.softmax(output, dim=1)  # predict probability [batch_size, class_num]\n",
    "pred_prob_all"
   ],
   "metadata": {
    "collapsed": false,
    "pycharm": {
     "name": "#%%\n"
    }
   }
  },
  {
   "cell_type": "markdown",
   "source": [
    "# 3.4 analysis"
   ],
   "metadata": {
    "collapsed": false,
    "pycharm": {
     "name": "#%% md\n"
    }
   }
  },
  {
   "cell_type": "code",
   "execution_count": 232,
   "outputs": [
    {
     "name": "stdout",
     "output_type": "stream",
     "text": [
      "A 0.03523745465971337 -0.28475202687601486\n",
      "R -0.4976417791106167 -0.8910750311250879\n",
      "N -0.04731658853694024 -0.3537143750932241\n",
      "D 0.052321783394906916 -0.13621399144415944\n",
      "C -0.3026502425074363 -0.6409722762599298\n",
      "Q 0.4782455339826832 -0.2581017699322013\n",
      "E 0.27758814647696384 -0.1653202142992546\n",
      "G 0.1857170659042269 -0.38171342240860134\n",
      "H -0.4397022126551415 -0.7788832608528637\n",
      "I -0.36076046465172595 -0.5057527760540637\n",
      "L 0.39548270688745146 0.2211580105862368\n",
      "K -0.28698475146078073 -0.7009223709053458\n",
      "M 0.6030845144408308 0.48966177860955573\n",
      "F -0.05372260443273007 -0.5112804408974977\n",
      "P 0.7323751534432901 0.24133626101175612\n",
      "S -0.028239021615707113 -0.3222324411196489\n",
      "T -0.12712924262983072 -0.47274413413494876\n",
      "W -0.6756515439354223 -0.8043930892630528\n",
      "Y -0.6557779237457644 -0.8812936037370726\n",
      "V -0.001484292166168291 -0.4409196724351967\n"
     ]
    }
   ],
   "source": [
    "scores_pos = {}\n",
    "scores_neg = {}\n",
    "scores_all = {}\n",
    "for i in range(len(aa_list)):\n",
    "    scores_pos[aa_list[i]] = normal_aa_value_origin_positive_sequence[i] / abs_aa_value_origin_positive_sequence[i]\n",
    "    scores_neg[aa_list[i]] = normal_aa_value_origin_negative_sequence[i] / abs_aa_value_origin_negative_sequence[i]\n",
    "    # scores_pos[aa_list[i]] = abs_aa_value_positive[i] * (normal_aa_value_positive[i] * normal_aa_value_positive[i])\n",
    "    scores_all[aa_list[i]] = (normal_aa_value_origin_positive_sequence[i] + normal_aa_value_origin_negative_sequence[i]) / (abs_aa_value_origin_positive_sequence[i] + abs_aa_value_origin_negative_sequence[i])\n",
    "    print(aa_list[i], scores_neg[aa_list[i]], scores_pos[aa_list[i]])"
   ],
   "metadata": {
    "collapsed": false,
    "pycharm": {
     "name": "#%%\n"
    }
   }
  },
  {
   "cell_type": "code",
   "execution_count": 236,
   "outputs": [],
   "source": [
    "aa_k_fold = {}\n",
    "for i in range(len(aa_list)):\n",
    "    aa_k_fold[aa_list[i]] = AAC_frequency_positive[aa_list[i]] / AAC_frequency_negative[aa_list[i]]"
   ],
   "metadata": {
    "collapsed": false,
    "pycharm": {
     "name": "#%%\n"
    }
   }
  },
  {
   "cell_type": "code",
   "execution_count": 237,
   "outputs": [
    {
     "data": {
      "text/plain": "[('W', 3.3557264265479567),\n ('P', 2.1918565215656547),\n ('Q', 1.661305352616669),\n ('Y', 1.3934796178038125),\n ('M', 1.3607061424721896),\n ('V', 1.2968484419263457),\n ('L', 1.2729453568913853),\n ('H', 1.1418791312559018),\n ('T', 1.0512538033784495),\n ('N', 0.9523007426690147),\n ('F', 0.8988552928253454),\n ('E', 0.8834766476973601),\n ('I', 0.842183279530931),\n ('D', 0.7429093143110687),\n ('G', 0.7389265144550964),\n ('S', 0.7026948500036319),\n ('A', 0.6466764467826791),\n ('R', 0.6023098714316845),\n ('K', 0.4923071703618259),\n ('C', 0.25375091805686706)]"
     },
     "execution_count": 237,
     "metadata": {},
     "output_type": "execute_result"
    }
   ],
   "source": [
    "sorted(aa_k_fold.items(),key = lambda x:x[1],reverse = True)"
   ],
   "metadata": {
    "collapsed": false,
    "pycharm": {
     "name": "#%%\n"
    }
   }
  },
  {
   "cell_type": "code",
   "execution_count": 233,
   "outputs": [
    {
     "data": {
      "text/plain": "[('P', 0.5784817546539195),\n ('M', 0.5616339287259192),\n ('L', 0.33042418447427774),\n ('Q', 0.22341821850369295),\n ('E', 0.09870069326447393),\n ('D', -0.023401193366855266),\n ('G', -0.05826191537338599),\n ('A', -0.09931254636793452),\n ('S', -0.1535319236872997),\n ('N', -0.17428013755726157),\n ('V', -0.18019692605810167),\n ('F', -0.24707711758372267),\n ('T', -0.26938707531202494),\n ('I', -0.4229756335974263),\n ('C', -0.4531468931298074),\n ('K', -0.47176875170537974),\n ('H', -0.6006185213123846),\n ('R', -0.6913528382297692),\n ('W', -0.7364322231789581),\n ('Y', -0.7652040430795629)]"
     },
     "execution_count": 233,
     "metadata": {},
     "output_type": "execute_result"
    }
   ],
   "source": [
    "sorted(scores_all.items(),key = lambda x:x[1],reverse = True)"
   ],
   "metadata": {
    "collapsed": false,
    "pycharm": {
     "name": "#%%\n"
    }
   }
  },
  {
   "cell_type": "code",
   "execution_count": 222,
   "outputs": [
    {
     "data": {
      "text/plain": "[('P', 0.1501416430594901),\n ('L', 0.10623229461756374),\n ('V', 0.07507082152974505),\n ('Q', 0.060906515580736544),\n ('G', 0.053824362606232294),\n ('A', 0.05240793201133145),\n ('I', 0.05240793201133145),\n ('E', 0.04815864022662889),\n ('F', 0.042492917847025496),\n ('T', 0.04107648725212465),\n ('K', 0.039660056657223795),\n ('S', 0.039660056657223795),\n ('Y', 0.039660056657223795),\n ('R', 0.0339943342776204),\n ('N', 0.0339943342776204),\n ('W', 0.0339943342776204),\n ('D', 0.029745042492917848),\n ('H', 0.029745042492917848),\n ('M', 0.026912181303116147),\n ('C', 0.009915014164305949)]"
     },
     "execution_count": 222,
     "metadata": {},
     "output_type": "execute_result"
    }
   ],
   "source": [
    "sorted(AAC_frequency_positive.items(),key = lambda x:x[1],reverse = True)"
   ],
   "metadata": {
    "collapsed": false,
    "pycharm": {
     "name": "#%%\n"
    }
   }
  },
  {
   "cell_type": "code",
   "execution_count": 93,
   "outputs": [
    {
     "data": {
      "text/plain": "[('L', 0.08345393150024119),\n ('A', 0.08104196816208394),\n ('K', 0.08055957549445249),\n ('G', 0.07284129281234925),\n ('P', 0.06849975880366618),\n ('I', 0.06222865412445731),\n ('V', 0.05788712011577424),\n ('R', 0.056439942112879886),\n ('S', 0.056439942112879886),\n ('E', 0.05451037144235408),\n ('F', 0.0472744814278823),\n ('D', 0.04003859141341052),\n ('C', 0.03907380607814761),\n ('T', 0.03907380607814761),\n ('Q', 0.036661842739990354),\n ('N', 0.03569705740472745),\n ('Y', 0.028461167390255667),\n ('H', 0.02604920405209841),\n ('M', 0.019778099372889532),\n ('W', 0.010130246020260492)]"
     },
     "execution_count": 93,
     "metadata": {},
     "output_type": "execute_result"
    }
   ],
   "source": [
    "sorted(AAC_frequency_negative.items(),key = lambda x:x[1],reverse = True)"
   ],
   "metadata": {
    "collapsed": false,
    "pycharm": {
     "name": "#%%\n"
    }
   }
  },
  {
   "cell_type": "code",
   "execution_count": null,
   "outputs": [],
   "source": [],
   "metadata": {
    "collapsed": false,
    "pycharm": {
     "name": "#%%\n"
    }
   }
  }
 ],
 "metadata": {
  "kernelspec": {
   "display_name": "Python 3",
   "language": "python",
   "name": "python3"
  },
  "language_info": {
   "codemirror_mode": {
    "name": "ipython",
    "version": 2
   },
   "file_extension": ".py",
   "mimetype": "text/x-python",
   "name": "python",
   "nbconvert_exporter": "python",
   "pygments_lexer": "ipython2",
   "version": "2.7.6"
  }
 },
 "nbformat": 4,
 "nbformat_minor": 0
}