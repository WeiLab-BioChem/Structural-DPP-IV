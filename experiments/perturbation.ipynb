{
 "cells": [
  {
   "cell_type": "markdown",
   "source": [
    "## Perturbation analysis\n",
    "\n",
    "Here we use the trained model to analyze the importance of each position and each amino acid in the sequence."
   ],
   "metadata": {
    "collapsed": false,
    "pycharm": {
     "name": "#%% md\n"
    }
   }
  },
  {
   "cell_type": "code",
   "execution_count": 1,
   "outputs": [
    {
     "name": "stdout",
     "output_type": "stream",
     "text": [
      "/mnt/8t/jjr/Structural-DPP-IV\n"
     ]
    }
   ],
   "source": [
    "import os\n",
    "import sys\n",
    "import argparse\n",
    "sys.path.append(\"/mnt/8t/jjr/Structural-DPP-IV\")\n",
    "\n",
    "import torch\n",
    "import torch.nn as nn\n",
    "import torch.nn.functional as F\n",
    "import numpy as np\n",
    "from tqdm import tqdm\n",
    "from sklearn.metrics import roc_curve, auc, accuracy_score, precision_score, recall_score, f1_score, roc_auc_score\n",
    "\n",
    "# from model import StructuralDPPIV\n",
    "from config import load_config\n",
    "from config.load_constant import constant\n",
    "from data import StructuralEncode\n",
    "from data import Encode\n",
    "from util import util_draw\n",
    "\n",
    "config_dict = load_config.load_default_args_dict(\"StructuralDPPIV\")\n",
    "config_dict['max_epochs'] = 150\n",
    "config_dict['gpus'] = [3]  # using which GPU to train\n",
    "config_dict['batch_size'] = 32\n",
    "config_dict['lr'] = 0.000005\n",
    "config_dict['model'] = 'StructuralDPPIV'\n",
    "config_dict['log_dir'] = constant['path_log']\n",
    "config_dict['max_seq_len'] = 90\n",
    "args = argparse.Namespace(**config_dict)"
   ],
   "metadata": {
    "collapsed": false,
    "pycharm": {
     "name": "#%%\n"
    }
   }
  },
  {
   "cell_type": "code",
   "execution_count": 2,
   "outputs": [],
   "source": [
    "class StructuralDPPIV(nn.Module):\n",
    "    def __init__(self, config):\n",
    "        super(StructuralDPPIV, self).__init__()\n",
    "        self.StructEncodeModule = Structural(config)\n",
    "        self.TextCNN = TextCNN()\n",
    "\n",
    "        self.classification = nn.Sequential(\n",
    "            nn.Linear(1024, 64),\n",
    "            nn.Dropout(0.5),\n",
    "            nn.ReLU(),\n",
    "            nn.Linear(64, 2)\n",
    "        )\n",
    "        self.Ws = nn.Parameter(torch.randn(1, 1024).cuda(), requires_grad=True)\n",
    "        self.Wh = nn.Parameter(torch.randn(1, 1024).cuda(), requires_grad=True)\n",
    "\n",
    "    def forward(self, x):\n",
    "        TextCNN_Only = False\n",
    "        StructuralEncodingOnly = False\n",
    "        assert not (TextCNN_Only and StructuralEncodingOnly)\n",
    "        if not TextCNN_Only and not StructuralEncodingOnly:\n",
    "            TextCNNEncode = self.TextCNN(x[0])\n",
    "            StructedEncode = self.StructEncodeModule(x[1])\n",
    "            newEncode = TextCNNEncode * StructedEncode\n",
    "            output = self.classification(newEncode)\n",
    "            return output, newEncode\n",
    "        elif TextCNN_Only:\n",
    "            TextCNNEncode = self.TextCNN(x[0])\n",
    "            output = self.classification(TextCNNEncode)\n",
    "            return output, TextCNNEncode\n",
    "        elif StructuralEncodingOnly:\n",
    "            StructedEncode = self.StructEncodeModule(x[1])\n",
    "            output = self.classification(StructedEncode)\n",
    "            return output, StructedEncode\n",
    "\n",
    "\n",
    "class TextCNN(nn.Module):\n",
    "    def __init__(self):\n",
    "        super(TextCNN, self).__init__()\n",
    "        self.visualization = False\n",
    "        vocab_size = 24\n",
    "        dim_embedding = 100\n",
    "        print(f\"[INFO] using CNN config of {dataset_name}\")\n",
    "        # filter_sizes = [1, 2, 4, 8, 16, 24, 32, 48, 64]\n",
    "        filter_sizes = [1, 2]\n",
    "        filter_num = 90\n",
    "        self.embedding = nn.Embedding(vocab_size, dim_embedding)\n",
    "        self.convs = nn.ModuleList(\n",
    "            [nn.Conv2d(1, filter_num, (fsz, dim_embedding)) for fsz in filter_sizes])\n",
    "        self.linear = nn.Linear(filter_num * len(filter_sizes), 1024)\n",
    "\n",
    "    def forward(self, x):\n",
    "        # print(\"\\nx = \\n\", x)\n",
    "        x = self.embedding(x)\n",
    "        x = x.view(x.size(0), 1, x.size(1), -1)\n",
    "        x = [F.relu(conv(x)) for conv in self.convs]\n",
    "\n",
    "        x = [F.max_pool2d(input=x_item, kernel_size=(x_item.size(2), x_item.size(3))) for x_item in x]\n",
    "        x = [x_item.view(x_item.size(0), -1) for x_item in x]\n",
    "        embedding = torch.cat(x, 1)\n",
    "        embedding = self.linear(embedding)\n",
    "\n",
    "        return embedding\n",
    "\n",
    "\n",
    "class Structural(nn.Module):\n",
    "    def __init__(self, config):\n",
    "        super(Structural, self).__init__()\n",
    "        self.config = config\n",
    "        self.inpuchannel = [32, 32, 64]\n",
    "        global dataset_name\n",
    "        dataset_name = 'DPP-IV'\n",
    "        print(f\"[INFO] using Structural config of {dataset_name}\")\n",
    "        self.embedding_dim = 21\n",
    "        global max_seq_len\n",
    "        max_seq_len = config.max_seq_len\n",
    "        self.conv = torch.nn.Conv2d(self.embedding_dim, self.inpuchannel[0], (3, 3), stride=1, padding='same')\n",
    "        # self.conv = torch.nn.Conv2d(19, self.inpuchannel[0], (3, 3), stride=1, padding='same')\n",
    "        self.resBlock1 = resBlock(self.inpuchannel[0], self.inpuchannel[1])\n",
    "        self.resBlock2 = resBlock(self.inpuchannel[1], self.inpuchannel[2], increDimen=True)\n",
    "        self.linear = nn.Linear(23552, 1024)\n",
    "\n",
    "    def forward(self, graph):\n",
    "        # 90 is the max length of sequence, 15 is the number of amino acid, 21 is the number of channel\n",
    "        graph = graph.cuda()  # (batchSize, 90, 15, 21)\n",
    "        graph = graph.transpose(2, 3)  # (batchSize, 90, 21, 15)\n",
    "        graph = graph.transpose(1, 2)   # (batchSize, 21, 90, 15)\n",
    "        representation = self.conv(graph) # (batchSize, 32, 90, 15)\n",
    "        representation = self.resBlock1(representation) # (batchSize, 32, 90, 15)\n",
    "        representation = self.resBlock2(representation) # (batchSize, 64, 46, 8)\n",
    "        representation = representation.flatten(start_dim=1) # (batchSize, 23552)\n",
    "        representation = self.linear(representation) # (batchSize, 1024)\n",
    "        return representation\n",
    "\n",
    "\n",
    "class resBlock(nn.Module):\n",
    "    def __init__(self, inputchannel, outputchannel, increDimen=False):\n",
    "        super(resBlock, self).__init__()\n",
    "        self.increDimen = increDimen\n",
    "        self.inputchannel = inputchannel\n",
    "        self.outputchannel = outputchannel\n",
    "        padding_dim1 = 2 if max_seq_len % 2 == 0 else 1\n",
    "        self.conv = torch.nn.Conv2d(inputchannel, outputchannel, (3, 3), stride=(2, 2), padding=(padding_dim1, 1))\n",
    "        self.conv1 = torch.nn.Conv2d(inputchannel, outputchannel, (3, 3), stride=1, padding='same')\n",
    "        self.batchnorm1 = nn.BatchNorm2d(inputchannel, affine=True)\n",
    "        self.conv2 = torch.nn.Conv2d(outputchannel, outputchannel, (3, 3), stride=1, padding='same')\n",
    "        self.batchnorm2 = nn.BatchNorm2d(outputchannel, affine=True)\n",
    "\n",
    "    def forward(self, feature):\n",
    "        original = feature\n",
    "\n",
    "        if self.increDimen:\n",
    "            feature = F.max_pool2d(input=feature, kernel_size=(2, 2), padding=1)\n",
    "            original = self.conv(original)\n",
    "        feature = self.batchnorm1(feature)\n",
    "        feature = F.relu(feature)\n",
    "        feature = self.conv1(feature)\n",
    "        feature = self.batchnorm2(feature)\n",
    "        feature = F.relu(feature)\n",
    "        feature = self.conv2(feature)\n",
    "        feature = feature + original\n",
    "        return feature"
   ],
   "metadata": {
    "collapsed": false,
    "pycharm": {
     "name": "#%%\n"
    }
   }
  },
  {
   "cell_type": "code",
   "execution_count": 6,
   "outputs": [],
   "source": [
    "def load_params(model, param_path):\n",
    "    pretrained_dict = torch.load(param_path)['state_dict']\n",
    "    # print(pretrained_dict.keys())\n",
    "    new_model_dict = model.state_dict()\n",
    "    # print(new_model_dict.keys())\n",
    "    pretrained_dict = {'.'.join(k.split('.')[1:]): v for k, v in pretrained_dict.items() if '.'.join(k.split('.')[1:]) in new_model_dict}\n",
    "    # pretrained_dict = {k[6:]: v for k, v in pretrained_dict.items() if k[6:] in new_model_dict}\n",
    "    # print(pretrained_dict.keys())\n",
    "    new_model_dict.update(pretrained_dict)\n",
    "    model.load_state_dict(new_model_dict)"
   ],
   "metadata": {
    "collapsed": false,
    "pycharm": {
     "name": "#%%\n"
    }
   }
  },
  {
   "cell_type": "code",
   "execution_count": 7,
   "outputs": [],
   "source": [
    "def get_one_sequence_code(sequence = 'YPFPGPIP'):\n",
    "    # sequence = 'YPFPGPIP'\n",
    "\n",
    "    sequence_data_process = Encode.codePeptides([sequence])\n",
    "    sequence_data_length = len(sequence_data_process[0])\n",
    "    sequence_data_padding = np.pad(sequence_data_process[0], (0, 90 - sequence_data_length), 'constant', constant_values=0)\n",
    "    sequence_data = torch.tensor(np.array([sequence_data_padding])).cuda()\n",
    "\n",
    "    Channel = StructuralEncode.convert_to_graph_channel(sequence)\n",
    "    Structure_data = StructuralEncode.convert_to_graph_channel_returning_maxSeqLenx15xfn(Channel, cubeBiased=False,\n",
    "                                                                 maxSeqLen=90, cubeBias=False,\n",
    "                                                                 right_align=False)\n",
    "    tensor_Structure_data = torch.tensor(Structure_data).cuda()\n",
    "    tensor_Structure_data = torch.unsqueeze(tensor_Structure_data, 0)\n",
    "\n",
    "    # sequence_data = sequence_data_process.cuda()\n",
    "    # print(sequence_data)\n",
    "    return [sequence_data, tensor_Structure_data]"
   ],
   "metadata": {
    "collapsed": false,
    "pycharm": {
     "name": "#%%\n"
    }
   }
  },
  {
   "cell_type": "code",
   "execution_count": 8,
   "outputs": [],
   "source": [
    "def load_tsv(filename, skip_head=True):\n",
    "    sequences = []\n",
    "    labels = []\n",
    "    with open(filename, 'r') as file:\n",
    "        if skip_head:\n",
    "            next(file)\n",
    "        for line in file:\n",
    "            if line[-1] == '\\n':\n",
    "                line = line[:-1]\n",
    "            list = line.split('\\t')\n",
    "            sequences.append(list[2])\n",
    "            labels.append(int(list[1]))\n",
    "    return sequences, labels"
   ],
   "metadata": {
    "collapsed": false,
    "pycharm": {
     "name": "#%%\n"
    }
   }
  },
  {
   "cell_type": "code",
   "execution_count": 9,
   "outputs": [
    {
     "name": "stdout",
     "output_type": "stream",
     "text": [
      "[INFO] using Structural config of DPP-IV\n",
      "[INFO] using CNN config of DPP-IV\n"
     ]
    }
   ],
   "source": [
    "new_model = StructuralDPPIV(args).cuda()\n",
    "load_params(new_model, '/mnt/8t/jjr/Structural-DPP-IV/main/log/StructuralDPPIV/version_3/checkpoints/epoch=73,step=2442,val_SE_epoch=0.95,val_SP_epoch=0.87,val_F1_epoch=0.91,val_AUC_epoch=1.00.ckpt')"
   ],
   "metadata": {
    "collapsed": false,
    "pycharm": {
     "name": "#%%\n"
    }
   }
  },
  {
   "cell_type": "code",
   "execution_count": 12,
   "outputs": [
    {
     "data": {
      "text/plain": "tensor([[0.9917, 0.0083]], device='cuda:0', grad_fn=<SoftmaxBackward0>)"
     },
     "execution_count": 12,
     "metadata": {},
     "output_type": "execute_result"
    }
   ],
   "source": [
    "new_model.eval()\n",
    "DATA = get_one_sequence_code('NYIVPEDKREMWMACIAELH')\n",
    "output, embedding = new_model(DATA)\n",
    "pred_prob_all = F.softmax(output, dim=1)  # predict probability [batch_size, class_num]\n",
    "pred_prob_all"
   ],
   "metadata": {
    "collapsed": false,
    "pycharm": {
     "name": "#%%\n"
    }
   }
  },
  {
   "cell_type": "code",
   "execution_count": 17,
   "outputs": [
    {
     "name": "stderr",
     "output_type": "stream",
     "text": [
      "100%|███████████████████████████████████████████████████████████████████████████████████████████████████████████████████████████████████████████████████| 266/266 [00:06<00:00, 39.04it/s]"
     ]
    },
    {
     "name": "stdout",
     "output_type": "stream",
     "text": [
      "acc: 0.8947368421052632\n",
      "auc: 0.9625190796540222\n",
      "f1: 0.8978102189781022\n",
      "se: 0.924812030075188\n",
      "sp: 0.8646616541353384\n"
     ]
    },
    {
     "name": "stderr",
     "output_type": "stream",
     "text": [
      "\n"
     ]
    }
   ],
   "source": [
    "pred_prob = []\n",
    "label_pred = []\n",
    "predict_true = 0\n",
    "\n",
    "sequences, labels = load_tsv('/mnt/8t/jjr/Structural-DPP-IV/data/DPP-IV/test/test.tsv')\n",
    "# sequences, labels = load_tsv('/mnt/8t/jjr/Structural-DPP-IV/data/DPP-IV/train/train.tsv')\n",
    "from tqdm import tqdm\n",
    "# predict sequence one by one\n",
    "for index in tqdm(range(len(sequences))):\n",
    "    # print(\"before success2:\", config.learn_name)\n",
    "    sequence_code = get_one_sequence_code(sequences[index])\n",
    "    logits, representation = new_model(sequence_code)\n",
    "\n",
    "    pred_prob_all = F.softmax(logits, dim=1)  # predict probability [batch_size, class_num]\n",
    "    pred_prob_positive = pred_prob_all[:, 1]  # note, it is very easy to make mistake\n",
    "    pred_prob_sort = torch.max(pred_prob_all, 1)  # max probability in each sample [batch_size]\n",
    "    pred_class = pred_prob_sort[1]  # where max probability site in each sample [batch_size]\n",
    "\n",
    "    pred_prob = pred_prob + pred_prob_positive.tolist()\n",
    "    label_pred = label_pred + pred_class.tolist()\n",
    "\n",
    "acc = accuracy_score(labels, label_pred)\n",
    "auc = roc_auc_score(labels, pred_prob)\n",
    "f1 = f1_score(labels, label_pred)\n",
    "se = recall_score(labels, label_pred)\n",
    "sp = recall_score(labels, label_pred, pos_label=0)\n",
    "\n",
    "print('acc:', acc)\n",
    "print('auc:', auc)\n",
    "print('f1:', f1)\n",
    "print('se:', se)\n",
    "print('sp:', sp)"
   ],
   "metadata": {
    "collapsed": false,
    "pycharm": {
     "name": "#%%\n"
    }
   }
  },
  {
   "cell_type": "markdown",
   "source": [
    "# Perturbation analysis"
   ],
   "metadata": {
    "collapsed": false,
    "pycharm": {
     "name": "#%% md\n"
    }
   }
  },
  {
   "cell_type": "code",
   "execution_count": 14,
   "outputs": [],
   "source": [
    "aa_dict = {'A': 1, 'R': 2, 'N': 3, 'D': 4, 'C': 5, 'Q': 6, 'E': 7, 'G': 8, 'H': 9, 'I': 10,\n",
    "           'L': 11, 'K': 12, 'M': 13, 'F': 14, 'P': 15, 'S': 16, 'T': 17,\n",
    "           'W': 18, 'Y': 19, 'V': 20}\n",
    "aa_list = list(aa_dict.keys())"
   ],
   "metadata": {
    "collapsed": false,
    "pycharm": {
     "name": "#%%\n"
    }
   }
  },
  {
   "cell_type": "code",
   "execution_count": 15,
   "outputs": [],
   "source": [
    "import copy\n",
    "def perturbation_process():\n",
    "    sequences, labels = load_tsv('/mnt/8t/jjr/Structural-DPP-IV/data/DPP-IV/test/test.tsv')\n",
    "\n",
    "    save_data_abs = []\n",
    "    save_data_normal = []\n",
    "    iter_sequences = sequences\n",
    "\n",
    "    for k in tqdm(range(len(iter_sequences))):\n",
    "        iter_sequence_origin = iter_sequences[k]\n",
    "        iter_sequence_len = len(iter_sequence_origin)\n",
    "        result_matrix_abs = np.zeros((len(aa_list), len(iter_sequence_origin)))\n",
    "        result_matrix_normal = np.zeros((len(aa_list), len(iter_sequence_origin)))\n",
    "\n",
    "        sequence_code_origin = get_one_sequence_code(iter_sequence_origin)\n",
    "        with torch.no_grad():\n",
    "            output, feature = new_model(sequence_code_origin)\n",
    "        output = torch.softmax(output, dim=1)[0][1].item()\n",
    "\n",
    "        for i in range(0, iter_sequence_len):\n",
    "            for j in range(len(aa_list)):\n",
    "                iter_sequence_perturbation = copy.copy(iter_sequence_origin)\n",
    "                iter_sequence_perturbation = iter_sequence_perturbation[:i] + aa_list[j] + iter_sequence_perturbation[i + 1:]\n",
    "                sequence_code_perturbation = get_one_sequence_code(iter_sequence_perturbation)\n",
    "                with torch.no_grad():\n",
    "                    output_perturbation, feature = new_model(sequence_code_perturbation)\n",
    "                output_perturbation = torch.softmax(output_perturbation, dim=1)[0][1].item()\n",
    "\n",
    "                # 计算差异\n",
    "                # diff = output_modification - output\n",
    "                diff_abs = abs(output_perturbation - output)\n",
    "                diff_normal = output_perturbation - output\n",
    "\n",
    "                result_matrix_abs[j][i] = diff_abs\n",
    "                result_matrix_normal[j][i] = diff_normal\n",
    "        save_data_abs.append([result_matrix_abs, iter_sequence_origin])\n",
    "        save_data_normal.append([result_matrix_normal, iter_sequence_origin])\n",
    "\n",
    "    torch.save(save_data_abs, '/mnt/8t/jjr/Structural-DPP-IV/experiments/save_data/abs_test.pt')\n",
    "    torch.save(save_data_normal, '/mnt/8t/jjr/Structural-DPP-IV/experiments/save_data/normal_test.pt')"
   ],
   "metadata": {
    "collapsed": false,
    "pycharm": {
     "name": "#%%\n"
    }
   }
  },
  {
   "cell_type": "code",
   "execution_count": null,
   "outputs": [],
   "source": [
    "perturbation_process()"
   ],
   "metadata": {
    "collapsed": false,
    "pycharm": {
     "name": "#%%\n",
     "is_executing": true
    }
   }
  },
  {
   "cell_type": "markdown",
   "source": [
    "# 3.1 Position importance (distribution normalization)"
   ],
   "metadata": {
    "collapsed": false,
    "pycharm": {
     "name": "#%% md\n"
    }
   }
  },
  {
   "cell_type": "code",
   "execution_count": 10,
   "outputs": [],
   "source": [
    "perturbation_abs_data_sequences = torch.load('/mnt/8t/jjr/Structural-DPP-IV/experiments/save_data/abs_test.pt')\n",
    "perturbation_normal_data_sequences = torch.load('/mnt/8t/jjr/Structural-DPP-IV/experiments/save_data/normal_test.pt')"
   ],
   "metadata": {
    "collapsed": false,
    "pycharm": {
     "name": "#%%\n"
    }
   }
  },
  {
   "cell_type": "code",
   "execution_count": 11,
   "outputs": [],
   "source": [
    "cut_number = 25\n",
    "sequences_position_value = [[] for i in range(cut_number)]\n",
    "all_sequences = perturbation_abs_data_sequences\n",
    "for sequence_data in all_sequences:\n",
    "    matrix = sequence_data[0]\n",
    "    result_matrix = matrix.sum(axis = 0)\n",
    "    # matrix = matrix * -1\n",
    "    # matrix = matrix.tolist()\n",
    "    # print(result_matrix)\n",
    "    sequence_position_value = [0 for i in range(cut_number)]\n",
    "    if len(result_matrix) < cut_number:\n",
    "        for i in range(len(sequence_position_value)):\n",
    "            position = int(i / cut_number * len(result_matrix))\n",
    "            if position == len(result_matrix):\n",
    "                position = len(result_matrix) - 1\n",
    "            # print(result_matrix[position].item())\n",
    "            # print(position)\n",
    "            sequence_position_value[i] += result_matrix[position].item()\n",
    "    elif len(result_matrix) >= cut_number:\n",
    "        for i in range(len(result_matrix)):\n",
    "            position = int(i / len(result_matrix) * cut_number)\n",
    "            if position == cut_number:\n",
    "                position = cut_number - 1\n",
    "            sequence_position_value[position] += result_matrix[i].item()\n",
    "\n",
    "\n",
    "    for i in range(len(sequences_position_value)):\n",
    "        sequences_position_value[i].append(sequence_position_value[i])"
   ],
   "metadata": {
    "collapsed": false,
    "pycharm": {
     "name": "#%%\n"
    }
   }
  },
  {
   "cell_type": "code",
   "execution_count": 12,
   "outputs": [
    {
     "data": {
      "text/plain": "<Figure size 864x216 with 1 Axes>",
      "image/png": "[encoded data removed]"
     },
     "metadata": {
      "needs_background": "light"
     },
     "output_type": "display_data"
    }
   ],
   "source": [
    "import matplotlib.pyplot as plt\n",
    "def plot_box_now(data, keys):\n",
    "    plt.figure(figsize=(12, 3))  # 画布\n",
    "    ax=plt.axes()\n",
    "    ax.grid(False)\n",
    "    ax.boxplot(data,\n",
    "                keys,  # 为箱线图添加标签，类似于图例的作用\n",
    "                '',\n",
    "               # sym=\"g+\",  # 异常点形状，默认为蓝色的“+”\n",
    "                showmeans=True  # 是否显示均值，默认不显示\n",
    "                )\n",
    "\n",
    "    plt.show()\n",
    "plot_box_now(sequences_position_value, [i for i in range(cut_number)])"
   ],
   "metadata": {
    "collapsed": false,
    "pycharm": {
     "name": "#%%\n"
    }
   }
  },
  {
   "cell_type": "markdown",
   "source": [
    "# 3.2 Position importance (not cut sequence)"
   ],
   "metadata": {
    "collapsed": false,
    "pycharm": {
     "name": "#%% md\n"
    }
   }
  },
  {
   "cell_type": "code",
   "execution_count": 13,
   "outputs": [],
   "source": [
    "# not cut sequence\n",
    "sequences_position_origin_value = [0 for i in range(90)]\n",
    "sequences_position_origin_count = [1 for i in range(90)]\n",
    "for sequence_data in all_sequences:\n",
    "    matrix = sequence_data[0]\n",
    "    result_matrix = matrix.sum(axis = 0)\n",
    "\n",
    "    for i in range(len(result_matrix)):\n",
    "        sequences_position_origin_value[i] += result_matrix[i].item()\n",
    "        sequences_position_origin_count[i] = sequences_position_origin_count[i] + 1\n",
    "\n",
    "for i in range(len(sequences_position_origin_value)):\n",
    "    sequences_position_origin_value[i] = sequences_position_origin_value[i] / sequences_position_origin_count[i]\n"
   ],
   "metadata": {
    "collapsed": false,
    "pycharm": {
     "name": "#%%\n"
    }
   }
  },
  {
   "cell_type": "code",
   "execution_count": 14,
   "outputs": [
    {
     "data": {
      "text/plain": "[<matplotlib.lines.Line2D at 0x7f97d4725ae0>]"
     },
     "execution_count": 14,
     "metadata": {},
     "output_type": "execute_result"
    },
    {
     "data": {
      "text/plain": "<Figure size 432x288 with 1 Axes>",
      "image/png": "[encoded data removed]"
     },
     "metadata": {
      "needs_background": "light"
     },
     "output_type": "display_data"
    }
   ],
   "source": [
    "plt.plot(sequences_position_origin_value)"
   ],
   "metadata": {
    "collapsed": false,
    "pycharm": {
     "name": "#%%\n"
    }
   }
  },
  {
   "cell_type": "markdown",
   "source": [
    "# 4. amino acid analysis\n",
    "# 4.1. abs_data analysis on amino acid"
   ],
   "metadata": {
    "collapsed": false,
    "pycharm": {
     "name": "#%% md\n"
    }
   }
  },
  {
   "cell_type": "code",
   "execution_count": 21,
   "outputs": [],
   "source": [
    "perturbation_abs_data_sequences = torch.load('/mnt/8t/jjr/Structural-DPP-IV/experiments/save_data/abs_test.pt')\n",
    "perturbation_normal_data_sequences = torch.load('/mnt/8t/jjr/Structural-DPP-IV/experiments/save_data/normal_test.pt')\n",
    "aa_dict = {'A': 1, 'R': 2, 'N': 3, 'D': 4, 'C': 5, 'Q': 6, 'E': 7, 'G': 8, 'H': 9, 'I': 10,\n",
    "           'L': 11, 'K': 12, 'M': 13, 'F': 14, 'P': 15, 'S': 16, 'T': 17,\n",
    "           'W': 18, 'Y': 19, 'V': 20}\n",
    "aa_list = list(aa_dict.keys())"
   ],
   "metadata": {
    "collapsed": false,
    "pycharm": {
     "name": "#%%\n"
    }
   }
  },
  {
   "cell_type": "code",
   "execution_count": 18,
   "outputs": [],
   "source": [
    "abs_negative = perturbation_abs_data_sequences[labels.index(0):]\n",
    "aa_value_each_negative_sequence = []\n",
    "for sequence_data in abs_negative:\n",
    "    matrix = sequence_data[0]\n",
    "    matrix = matrix.sum(axis = 1)\n",
    "#     matrix = matrix * -1\n",
    "    matrix = matrix.tolist()\n",
    "    aa_value_each_negative_sequence.append(matrix)\n",
    "\n",
    "abs_aa_value_origin_negative_sequence = np.array(aa_value_each_negative_sequence).sum(axis=0)\n",
    "for i in range(len(abs_aa_value_origin_negative_sequence)):\n",
    "    abs_aa_value_negative = (abs_aa_value_origin_negative_sequence - np.min(abs_aa_value_origin_negative_sequence)) / (\n",
    "            np.max(abs_aa_value_origin_negative_sequence) - np.min(abs_aa_value_origin_negative_sequence))"
   ],
   "metadata": {
    "collapsed": false,
    "pycharm": {
     "name": "#%%\n"
    }
   }
  },
  {
   "cell_type": "code",
   "execution_count": 22,
   "outputs": [],
   "source": [
    "abs_positive = perturbation_abs_data_sequences[:labels.index(0)]\n",
    "aa_value_each_positive_sequence = []\n",
    "for sequence_data in abs_positive:\n",
    "    matrix = sequence_data[0]\n",
    "    matrix = matrix.sum(axis = 1)\n",
    "#     matrix = matrix * -1\n",
    "    matrix = matrix.tolist()\n",
    "    aa_value_each_positive_sequence.append(matrix)\n",
    "\n",
    "abs_aa_value_origin_positive_sequence = np.array(aa_value_each_positive_sequence).sum(axis=0)\n",
    "for i in range(len(abs_aa_value_origin_positive_sequence)):\n",
    "    abs_aa_value_positive = (abs_aa_value_origin_positive_sequence - np.min(abs_aa_value_origin_positive_sequence)) / (\n",
    "            np.max(abs_aa_value_origin_positive_sequence) - np.min(abs_aa_value_origin_positive_sequence))"
   ],
   "metadata": {
    "collapsed": false,
    "pycharm": {
     "name": "#%%\n"
    }
   }
  },
  {
   "cell_type": "code",
   "execution_count": 23,
   "outputs": [],
   "source": [
    "count_aa_neg = [0 for i in range(20)]\n",
    "count_aa_pos = [0 for i in range(20)]\n",
    "for sequence in sequences[:labels.index(0)]:\n",
    "    for aa in sequence:\n",
    "        count_aa_pos[aa_dict[aa] - 1] += 1\n",
    "for sequence in sequences[labels.index(0):]:\n",
    "    for aa in sequence:\n",
    "        count_aa_neg[aa_dict[aa] - 1] += 1\n",
    "# print(count_aa_pos)\n",
    "# print(count_aa_neg)\n",
    "# sum(count_aa_pos)"
   ],
   "metadata": {
    "collapsed": false,
    "pycharm": {
     "name": "#%%\n"
    }
   }
  },
  {
   "cell_type": "code",
   "execution_count": 24,
   "outputs": [],
   "source": [
    "abs_aa_value_origin_avg_positive_sequence = [0 for i in range(20)]\n",
    "abs_aa_value_origin_avg_negative_sequence = [0 for i in range(20)]\n",
    "for i in range(len(aa_list)):\n",
    "    abs_aa_value_origin_avg_positive_sequence[i] = abs_aa_value_origin_avg_positive_sequence[i] / count_aa_pos[i]\n",
    "    abs_aa_value_origin_avg_negative_sequence[i] = abs_aa_value_origin_avg_negative_sequence[i] / count_aa_neg[i]"
   ],
   "metadata": {
    "collapsed": false,
    "pycharm": {
     "name": "#%%\n"
    }
   }
  },
  {
   "cell_type": "code",
   "execution_count": 25,
   "outputs": [
    {
     "name": "stdout",
     "output_type": "stream",
     "text": [
      "A 37.28889890015125 51.39230017056252\n",
      "A 0.0 0.0\n",
      "==================================\n",
      "R 67.55943594872952 69.65590276470175\n",
      "R 0.0 0.0\n",
      "==================================\n",
      "N 37.621699035167694 53.16975567611371\n",
      "N 0.0 0.0\n",
      "==================================\n",
      "D 35.37339295446873 52.69961123209214\n",
      "D 0.0 0.0\n",
      "==================================\n",
      "C 39.75159692764282 49.61146239528898\n",
      "C 0.0 0.0\n",
      "==================================\n",
      "Q 32.98174495995045 62.32208435684879\n",
      "Q 0.0 0.0\n",
      "==================================\n",
      "E 40.3029819726944 59.483377323929744\n",
      "E 0.0 0.0\n",
      "==================================\n",
      "G 41.238871455192566 54.67182070670242\n",
      "G 0.0 0.0\n",
      "==================================\n",
      "H 50.0004627853632 55.391026240366045\n",
      "H 0.0 0.0\n",
      "==================================\n",
      "I 40.47763633728027 53.85540417519951\n",
      "I 0.0 0.0\n",
      "==================================\n",
      "L 30.723435133695602 51.600191354431445\n",
      "L 0.0 0.0\n",
      "==================================\n",
      "K 45.093177780508995 55.92077710165904\n",
      "K 0.0 0.0\n",
      "==================================\n",
      "M 34.404613107442856 59.737973216950195\n",
      "M 0.0 0.0\n",
      "==================================\n",
      "F 39.416508972644806 53.85947550067067\n",
      "F 0.0 0.0\n",
      "==================================\n",
      "P 31.215471148490906 68.3860094872216\n",
      "P 0.0 0.0\n",
      "==================================\n",
      "S 36.773902893066406 49.514189100053045\n",
      "S 0.0 0.0\n",
      "==================================\n",
      "T 38.774202436208725 55.42758255882654\n",
      "T 0.0 0.0\n",
      "==================================\n",
      "W 60.59201896190643 67.749918850619\n",
      "W 0.0 0.0\n",
      "==================================\n",
      "Y 61.33831927925348 65.0734813584786\n",
      "Y 0.0 0.0\n",
      "==================================\n",
      "V 36.245572313666344 52.87843926771893\n",
      "V 0.0 0.0\n",
      "==================================\n"
     ]
    }
   ],
   "source": [
    "for i in range(len(aa_list)):\n",
    "    # print(aa_list[i],abs_aa_value_positive[i], abs_aa_value_negative[i])\n",
    "    print(aa_list[i], abs_aa_value_origin_positive_sequence[i], abs_aa_value_origin_negative_sequence[i])\n",
    "    print(aa_list[i], abs_aa_value_origin_avg_positive_sequence[i], abs_aa_value_origin_avg_negative_sequence[i])\n",
    "    print(\"==================================\")\n"
   ],
   "metadata": {
    "collapsed": false,
    "pycharm": {
     "name": "#%%\n"
    }
   }
  },
  {
   "cell_type": "code",
   "execution_count": 77,
   "outputs": [
    {
     "data": {
      "text/plain": "[('R', 0.09569325205202481),\n ('Y', 0.08688147206693128),\n ('W', 0.08582438946445671),\n ('H', 0.0708221852483898),\n ('K', 0.06387135662961614),\n ('G', 0.05841199922831808),\n ('I', 0.05733376251739415),\n ('E', 0.05708637673186175),\n ('C', 0.05630537808447992),\n ('F', 0.05583074925303797),\n ('T', 0.05492096662352511),\n ('N', 0.053288525545563306),\n ('A', 0.052817137252338886),\n ('S', 0.05208768115165213),\n ('V', 0.051339337554768195),\n ('D', 0.05010395602615967),\n ('M', 0.048731746611108864),\n ('Q', 0.04671635263449072),\n ('P', 0.04421454836896729),\n ('L', 0.04351761350381814)]"
     },
     "execution_count": 77,
     "metadata": {},
     "output_type": "execute_result"
    }
   ],
   "source": [
    "scores_abs_pos = {}\n",
    "scores_abs_neg = {}\n",
    "scores_abs_all_add = {}\n",
    "scores_abs_all_sub = {}\n",
    "for i in range(len(aa_list)):\n",
    "    scores_abs_pos[aa_list[i]] = abs_aa_value_origin_avg_positive_sequence[i]\n",
    "    scores_abs_neg[aa_list[i]] = abs_aa_value_origin_avg_negative_sequence[i]\n",
    "    scores_abs_all_add[aa_list[i]] = abs_aa_value_origin_avg_positive_sequence[i] + abs_aa_value_origin_avg_negative_sequence[i]\n",
    "    scores_abs_all_sub[aa_list[i]] = abs_aa_value_origin_avg_positive_sequence[i] - abs_aa_value_origin_avg_negative_sequence[i]\n",
    "\n",
    "sorted(scores_abs_pos.items(), key=lambda x: x[1], reverse=True)"
   ],
   "metadata": {
    "collapsed": false,
    "pycharm": {
     "name": "#%%\n"
    }
   }
  },
  {
   "cell_type": "markdown",
   "source": [
    "# 4.2. abs_data analysis on amino acid"
   ],
   "metadata": {
    "collapsed": false,
    "pycharm": {
     "name": "#%% md\n"
    }
   }
  },
  {
   "cell_type": "code",
   "execution_count": 26,
   "outputs": [],
   "source": [
    "normal_negative = perturbation_normal_data_sequences[labels.index(0):]\n",
    "aa_value_each_negative_sequence = []\n",
    "for sequence_data in normal_negative:\n",
    "    matrix = sequence_data[0]\n",
    "    matrix = matrix.sum(axis = 1)\n",
    "#     matrix = matrix * -1\n",
    "    matrix = matrix.tolist()\n",
    "    aa_value_each_negative_sequence.append(matrix)\n",
    "\n",
    "normal_aa_value_origin_negative_sequence = np.array(aa_value_each_negative_sequence).sum(axis=0)\n",
    "for i in range(len(normal_aa_value_origin_negative_sequence)):\n",
    "    normal_aa_value_negative = (normal_aa_value_origin_negative_sequence - np.min(normal_aa_value_origin_negative_sequence)) / (\n",
    "            np.max(normal_aa_value_origin_negative_sequence) - np.min(normal_aa_value_origin_negative_sequence))"
   ],
   "metadata": {
    "collapsed": false,
    "pycharm": {
     "name": "#%%\n"
    }
   }
  },
  {
   "cell_type": "code",
   "execution_count": 27,
   "outputs": [],
   "source": [
    "normal_positive = perturbation_normal_data_sequences[:labels.index(0)]\n",
    "aa_value_each_positive_sequence = []\n",
    "for sequence_data in normal_positive:\n",
    "    matrix = sequence_data[0]\n",
    "    matrix = matrix.sum(axis = 1)\n",
    "#     matrix = matrix * -1\n",
    "    matrix = matrix.tolist()\n",
    "    aa_value_each_positive_sequence.append(matrix)\n",
    "\n",
    "normal_aa_value_origin_positive_sequence = np.array(aa_value_each_positive_sequence).sum(axis=0)\n",
    "for i in range(len(normal_aa_value_origin_positive_sequence)):\n",
    "    normal_aa_value_positive = (normal_aa_value_origin_positive_sequence - np.min(normal_aa_value_origin_positive_sequence)) / (\n",
    "            np.max(normal_aa_value_origin_positive_sequence) - np.min(normal_aa_value_origin_positive_sequence))"
   ],
   "metadata": {
    "collapsed": false,
    "pycharm": {
     "name": "#%%\n"
    }
   }
  },
  {
   "cell_type": "code",
   "execution_count": 28,
   "outputs": [],
   "source": [
    "normal_aa_value_origin_avg_positive_sequence = [0 for i in range(20)]\n",
    "normal_aa_value_origin_avg_negative_sequence = [0 for i in range(20)]\n",
    "for i in range(len(aa_list)):\n",
    "    normal_aa_value_origin_avg_positive_sequence[i] = normal_aa_value_origin_positive_sequence[i] / count_aa_pos[i]\n",
    "    normal_aa_value_origin_avg_negative_sequence[i] = normal_aa_value_origin_negative_sequence[i] / count_aa_neg[i]\n"
   ],
   "metadata": {
    "collapsed": false,
    "pycharm": {
     "name": "#%%\n"
    }
   }
  },
  {
   "cell_type": "code",
   "execution_count": 29,
   "outputs": [
    {
     "name": "stdout",
     "output_type": "stream",
     "text": [
      "A -10.61808954179287 1.8109338471185765\n",
      "A -0.2869753930214289 0.010779368137610575\n",
      "==================================\n",
      "R -60.20052649080753 -34.6636873773823\n",
      "R -2.508355270450314 -0.2962708322853188\n",
      "==================================\n",
      "N -13.307335764169693 -2.5158114519363153\n",
      "N -0.5544723235070705 -0.03399745205319345\n",
      "==================================\n",
      "D -4.818351045250893 2.7573376438813284\n",
      "D -0.22944528786909013 0.03322093546844974\n",
      "==================================\n",
      "C -25.47967156767845 -15.014921125082765\n",
      "C -3.639953081096922 -0.18536939660596005\n",
      "==================================\n",
      "Q -8.51264674961567 29.80525851215498\n",
      "Q -0.1979685290608295 0.39217445410730234\n",
      "==================================\n",
      "E -6.662897616624832 16.51188045753952\n",
      "E -0.19596757695955389 0.14612283590742936\n",
      "==================================\n",
      "G -15.741430759429932 10.15349012929073\n",
      "G -0.41424817787973506 0.06724165648536908\n",
      "==================================\n",
      "H -38.94452349841595 -24.355556799127953\n",
      "H -1.854501118972188 -0.4510288296134806\n",
      "==================================\n",
      "I -20.47167694568634 -19.428900634251477\n",
      "I -0.5532885660996308 -0.15061163282365486\n",
      "==================================\n",
      "L 6.794733792543411 20.406983352761017\n",
      "L 0.09059645056724548 0.11795944134543941\n",
      "==================================\n",
      "K -31.606817081570625 -16.04841031801334\n",
      "K -1.1288148957703794 -0.09609826537732538\n",
      "==================================\n",
      "M 16.846624046564102 36.027046571223764\n",
      "M 0.8866644235033738 0.8787084529566772\n",
      "==================================\n",
      "F -20.15289008617401 -2.8934712972768466\n",
      "F -0.671763002872467 -0.029525217319151496\n",
      "==================================\n",
      "P 7.5334250926971436 50.08421419157821\n",
      "P 0.07107004804431268 0.35270573374350855\n",
      "==================================\n",
      "S -11.849744498729706 -1.3982322562806075\n",
      "S -0.42320516066891806 -0.011950703045133397\n",
      "==================================\n",
      "T -18.330276757478714 -7.046466591506032\n",
      "T -0.6320785088785763 -0.08699341470995102\n",
      "==================================\n",
      "W -48.739801317453384 -45.7753372729203\n",
      "W -2.030825054893891 -2.179777965377157\n",
      "==================================\n",
      "Y -54.057068444788456 -42.6737524961718\n",
      "Y -1.9306095873138733 -0.7232839406130813\n",
      "==================================\n",
      "V -15.981385871767998 -0.07848705316428095\n",
      "V -0.3015355824861886 -0.0006540587763690079\n",
      "==================================\n"
     ]
    }
   ],
   "source": [
    "for i in range(len(aa_list)):\n",
    "    # print(aa_list[i],normal_aa_value_positive[i], normal_aa_value_negative[i], normal_aa_value_origin_positive_sequence[i], normal_aa_value_origin_negative_sequence[i])\n",
    "    print(aa_list[i],normal_aa_value_origin_positive_sequence[i], normal_aa_value_origin_negative_sequence[i])\n",
    "    print(aa_list[i],normal_aa_value_origin_avg_positive_sequence[i], normal_aa_value_origin_avg_negative_sequence[i])\n",
    "    print(\"==================================\")"
   ],
   "metadata": {
    "collapsed": false,
    "pycharm": {
     "name": "#%%\n"
    }
   }
  },
  {
   "cell_type": "markdown",
   "source": [
    "# 4.3. AAC (frequency of amid acid) analysis on amino acid"
   ],
   "metadata": {
    "collapsed": false,
    "pycharm": {
     "name": "#%% md\n"
    }
   }
  },
  {
   "cell_type": "code",
   "execution_count": 37,
   "outputs": [],
   "source": [
    "def read_sequence(path):\n",
    "    positive_sequences = []\n",
    "    negative_sequences = []\n",
    "\n",
    "    with open(path, 'r') as f:\n",
    "        for line in f:\n",
    "            line = line.strip()\n",
    "            if line:\n",
    "                line = line.split('\\t')\n",
    "                if line[1] == '1':\n",
    "                    positive_sequences.append(line[2])\n",
    "                else:\n",
    "                    negative_sequences.append(line[2])\n",
    "    return positive_sequences, negative_sequences\n",
    "\n",
    "\n",
    "def AAC_frequency(data):\n",
    "    frequency = {}\n",
    "    frequency_list = []\n",
    "    num = 0\n",
    "    for i in data:\n",
    "        seq = i\n",
    "        for a in seq:\n",
    "            if a in frequency.keys():\n",
    "                frequency[a] += 1\n",
    "            else:\n",
    "                frequency[a] = 1\n",
    "            num += 1\n",
    "\n",
    "    name_list = aa_list\n",
    "    output_list = {}\n",
    "    all_f = 0\n",
    "    for i, order in enumerate(name_list):\n",
    "        frequency_list.append(frequency[order])\n",
    "        output_list[order] = frequency[order] / num\n",
    "        all_f += frequency[order] / num\n",
    "\n",
    "    return output_list\n",
    "\n",
    "positive_sequences, negative_sequences = read_sequence('/mnt/8t/jjr/Structural-DPP-IV/data/DPP-IV/test/test.tsv')\n",
    "AAC_frequency_positive = AAC_frequency(positive_sequences)\n",
    "AAC_frequency_negative = AAC_frequency(negative_sequences)\n",
    "AAC_frequency_all = AAC_frequency(sequences)\n",
    "# print(AAC_frequency_negative)\n",
    "# print(AAC_frequency_positive)"
   ],
   "metadata": {
    "collapsed": false,
    "pycharm": {
     "name": "#%%\n"
    }
   }
  },
  {
   "cell_type": "markdown",
   "source": [
    "# 4.4. Comprehensive analysis on amino acid"
   ],
   "metadata": {
    "collapsed": false,
    "pycharm": {
     "name": "#%% md\n"
    }
   }
  },
  {
   "cell_type": "code",
   "execution_count": 31,
   "outputs": [],
   "source": [
    "scores_pos = {}\n",
    "scores_neg = {}\n",
    "scores_all = {}\n",
    "for i in range(len(aa_list)):\n",
    "    scores_pos[aa_list[i]] = normal_aa_value_origin_positive_sequence[i] / abs_aa_value_origin_positive_sequence[i]\n",
    "    scores_neg[aa_list[i]] = normal_aa_value_origin_negative_sequence[i] / abs_aa_value_origin_negative_sequence[i]\n",
    "    # scores_pos[aa_list[i]] = abs_aa_value_positive[i] * (normal_aa_value_positive[i] * normal_aa_value_positive[i])\n",
    "    scores_all[aa_list[i]] = (normal_aa_value_origin_positive_sequence[i] + normal_aa_value_origin_negative_sequence[i]) / (abs_aa_value_origin_positive_sequence[i] + abs_aa_value_origin_negative_sequence[i])\n",
    "    # print(aa_list[i], scores_neg[aa_list[i]], scores_pos[aa_list[i]])"
   ],
   "metadata": {
    "collapsed": false,
    "pycharm": {
     "name": "#%%\n"
    }
   }
  },
  {
   "cell_type": "code",
   "execution_count": 33,
   "outputs": [],
   "source": [
    "aa_k_fold = {}\n",
    "for i in range(len(aa_list)):\n",
    "    aa_k_fold[aa_list[i]] = (AAC_frequency_positive[aa_list[i]] / AAC_frequency_negative[aa_list[i]] )\n",
    "    # aa_k_fold[aa_list[i]] = (AAC_frequency_positive[aa_list[i]] / AAC_frequency_negative[aa_list[i]] ) * (AAC_frequency_positive[aa_list[i]] * AAC_frequency_negative[aa_list[i]])"
   ],
   "metadata": {
    "collapsed": false,
    "pycharm": {
     "name": "#%%\n"
    }
   }
  },
  {
   "cell_type": "markdown",
   "source": [
    "# 5. heatmap on amino acid conversion"
   ],
   "metadata": {
    "collapsed": false,
    "pycharm": {
     "name": "#%% md\n"
    }
   }
  },
  {
   "cell_type": "code",
   "execution_count": 101,
   "outputs": [],
   "source": [
    "aa_dict = {'A': 1, 'R': 2, 'N': 3, 'D': 4, 'C': 5, 'Q': 6, 'E': 7, 'G':    8, 'H': 9, 'I': 10, 'L': 11, 'K': 12, 'M': 13, 'F': 14, 'P': 15, 'S': 16, 'T': 17,'W': 18, 'Y': 19, 'V': 20}\n",
    "aa_list = list(aa_dict.keys())"
   ],
   "metadata": {
    "collapsed": false,
    "pycharm": {
     "name": "#%%\n"
    }
   }
  },
  {
   "cell_type": "markdown",
   "source": [
    "# 5.1.2 A comprehensive analysis on training dataset"
   ],
   "metadata": {
    "collapsed": false,
    "pycharm": {
     "name": "#%% md\n"
    }
   }
  },
  {
   "cell_type": "code",
   "execution_count": 39,
   "outputs": [],
   "source": [
    "import copy\n",
    "def perturbation_conversion_process(sequences = None):\n",
    "    if sequences == None:\n",
    "        sequences, labels = load_tsv('/mnt/8t/jjr/Structural-DPP-IV/data/DPP-IV/test/test.tsv')\n",
    "\n",
    "    save_data_matrix_abs = [[0 for i in range(20)] for j in range(20)]\n",
    "    save_data_matrix_normal = [[0 for i in range(20)] for j in range(20)]\n",
    "    iter_sequences = sequences\n",
    "\n",
    "    for k in tqdm(range(len(iter_sequences))):\n",
    "        iter_sequence_origin = iter_sequences[k]\n",
    "        iter_sequence_len = len(iter_sequence_origin)\n",
    "        result_matrix_abs = np.zeros((len(aa_list), len(iter_sequence_origin)))\n",
    "        result_matrix_normal = np.zeros((len(aa_list), len(iter_sequence_origin)))\n",
    "\n",
    "        sequence_code_origin = get_one_sequence_code(iter_sequence_origin)\n",
    "        with torch.no_grad():\n",
    "            output, feature = new_model(sequence_code_origin)\n",
    "        output = torch.softmax(output, dim=1)[0][1].item()\n",
    "\n",
    "        for i in range(0, iter_sequence_len):\n",
    "            for j in range(len(aa_list)):\n",
    "                iter_sequence_perturbation = copy.copy(iter_sequence_origin)\n",
    "                iter_sequence_perturbation = iter_sequence_perturbation[:i] + aa_list[j] + iter_sequence_perturbation[\n",
    "                                                                                           i + 1:]\n",
    "                sequence_code_perturbation = get_one_sequence_code(iter_sequence_perturbation)\n",
    "                with torch.no_grad():\n",
    "                    output_perturbation, feature = new_model(sequence_code_perturbation)\n",
    "                output_perturbation = torch.softmax(output_perturbation, dim=1)[0][1].item()\n",
    "\n",
    "                # 计算差异\n",
    "                # diff = output_modification - output\n",
    "                diff_abs = abs(output_perturbation - output)\n",
    "                diff_normal = output_perturbation - output\n",
    "\n",
    "                save_data_matrix_abs[aa_dict[iter_sequence_origin[i]]-1][j] += diff_abs\n",
    "                save_data_matrix_normal[aa_dict[iter_sequence_origin[i]]-1][j] += diff_normal\n",
    "        # save_data_matrix_abs.append([result_matrix_abs, iter_sequence_origin])\n",
    "        # save_data_matrix_normal.append([result_matrix_normal, iter_sequence_origin])\n",
    "\n",
    "    # torch.save(save_data_matrix_abs, '/mnt/8t/jjr/Structural-DPP-IV/experiments/save_data/conversion_abs_test.pt')\n",
    "    # torch.save(save_data_matrix_normal, '/mnt/8t/jjr/Structural-DPP-IV/experiments/save_data/conversion_normal_test.pt')\n",
    "    return save_data_matrix_abs, save_data_matrix_normal"
   ],
   "metadata": {
    "collapsed": false,
    "pycharm": {
     "name": "#%%\n"
    }
   }
  },
  {
   "cell_type": "code",
   "execution_count": null,
   "outputs": [],
   "source": [
    "perturbation_conversion_process()"
   ],
   "metadata": {
    "collapsed": false,
    "pycharm": {
     "name": "#%%\n",
     "is_executing": true
    }
   }
  },
  {
   "cell_type": "code",
   "execution_count": 41,
   "outputs": [],
   "source": [
    "save_data_matrix_abs = torch.load('/mnt/8t/jjr/Structural-DPP-IV/experiments/save_data/conversion_abs_test.pt')\n",
    "save_data_matrix_normal = torch.load('/mnt/8t/jjr/Structural-DPP-IV/experiments/save_data/conversion_normal_test.pt')"
   ],
   "metadata": {
    "collapsed": false,
    "pycharm": {
     "name": "#%%\n"
    }
   }
  },
  {
   "cell_type": "code",
   "execution_count": null,
   "outputs": [],
   "source": [
    "# print(save_data_matrix_abs)\n",
    "print(save_data_matrix_normal)"
   ],
   "metadata": {
    "collapsed": false,
    "pycharm": {
     "name": "#%%\n",
     "is_executing": true
    }
   }
  },
  {
   "cell_type": "code",
   "execution_count": null,
   "outputs": [],
   "source": [
    "import seaborn as sns\n",
    "import matplotlib.pyplot as plt\n",
    "plt.figure(figsize=(15, 15))\n",
    "sns.heatmap(save_data_matrix_normal, annot=True, square=True, cmap=\"RdBu_r\", center=0, xticklabels=aa_list, yticklabels=aa_list, cbar_kws={\"shrink\": 0.7})\n",
    "plt.show()"
   ],
   "metadata": {
    "collapsed": false,
    "pycharm": {
     "name": "#%%\n"
    }
   }
  },
  {
   "cell_type": "markdown",
   "source": [
    "# 5.2 Some analysis on 20*20 matrix on peptide\n",
    "However, our results is quite different from wet experiments, we think may be only use the 20 sequences on each matrix, which is not accuracy.\n",
    "Also, different prefix \"WP\", \"WA\"... results in different heatmap. so, We make a more general sample in 5.3 with 4*4 matrix\n",
    "# 5.2.1 wet experiments part"
   ],
   "metadata": {
    "collapsed": false,
    "pycharm": {
     "name": "#%% md\n"
    }
   }
  },
  {
   "cell_type": "code",
   "execution_count": 43,
   "outputs": [],
   "source": [
    "import pandas as pd\n",
    "\n",
    "df = pd.read_excel('/mnt/8t/jjr/Structural-DPP-IV/experiments/save_data/wet_experiment_data.xlsx')\n",
    "threePeptideOriginalData=df.values\n",
    "\n",
    "# P, A, R, V\n",
    "threePeptideData_P = []\n",
    "threePeptideData_A = []\n",
    "threePeptideData_R = []\n",
    "threePeptideData_V = []\n",
    "for i in threePeptideOriginalData:\n",
    "    # print(i[0])\n",
    "    if i[0][1] == 'P':\n",
    "        threePeptideData_P.append([i[0], i[2]])\n",
    "    elif i[0][1] == 'A':\n",
    "        threePeptideData_A.append([i[0], i[2]])\n",
    "    elif i[0][1] == 'R':\n",
    "        threePeptideData_R.append([i[0], i[2]])\n",
    "    elif i[0][1] == 'V':\n",
    "        threePeptideData_V.append([i[0], i[2]])"
   ],
   "metadata": {
    "collapsed": false,
    "pycharm": {
     "name": "#%%\n"
    }
   }
  },
  {
   "cell_type": "code",
   "execution_count": 44,
   "outputs": [],
   "source": [
    "conversation_matrix_P = [[0 for i in range(20)] for j in range(20)]\n",
    "for i in threePeptideData_P:\n",
    "    for j in threePeptideData_P:\n",
    "        conversation_matrix_P[aa_dict[i[0][2]]-1][aa_dict[j[0][2]]-1] = j[1] - i[1]\n",
    "\n",
    "conversation_matrix_A = [[0 for i in range(20)] for j in range(20)]\n",
    "for i in threePeptideData_A:\n",
    "    for j in threePeptideData_A:\n",
    "        conversation_matrix_A[aa_dict[i[0][2]]-1][aa_dict[j[0][2]]-1] = j[1] - i[1]\n",
    "\n",
    "conversation_matrix_R = [[0 for i in range(20)] for j in range(20)]\n",
    "for i in threePeptideData_R:\n",
    "    for j in threePeptideData_R:\n",
    "        conversation_matrix_R[aa_dict[i[0][2]]-1][aa_dict[j[0][2]]-1] = j[1] - i[1]\n",
    "\n",
    "conversation_matrix_V = [[0 for i in range(20)] for j in range(20)]\n",
    "for i in threePeptideData_V:\n",
    "    for j in threePeptideData_V:\n",
    "        conversation_matrix_V[aa_dict[i[0][2]]-1][aa_dict[j[0][2]]-1] = j[1] - i[1]"
   ],
   "metadata": {
    "collapsed": false,
    "pycharm": {
     "name": "#%%\n"
    }
   }
  },
  {
   "cell_type": "markdown",
   "source": [
    "# 5.2.2 model experiments part"
   ],
   "metadata": {
    "collapsed": false,
    "pycharm": {
     "name": "#%% md\n"
    }
   }
  },
  {
   "cell_type": "code",
   "execution_count": 115,
   "outputs": [],
   "source": [
    "def perturbation_conversion_process_DIY_sequences(index, sequences = None):\n",
    "    if sequences == None:\n",
    "        sequences, labels = load_tsv('/mnt/8t/jjr/Structural-DPP-IV/data/DPP-IV/test/test.tsv')\n",
    "\n",
    "    save_data_matrix_abs = [[0 for i in range(20)] for j in range(20)]\n",
    "    save_data_matrix_normal = [[0 for i in range(20)] for j in range(20)]\n",
    "    iter_sequences = sequences\n",
    "    new_model.eval()\n",
    "\n",
    "    for k in tqdm(range(len(iter_sequences))):\n",
    "        iter_sequence_origin = iter_sequences[k]\n",
    "        iter_sequence_len = len(iter_sequence_origin)\n",
    "        result_matrix_abs = np.zeros((len(aa_list), len(iter_sequence_origin)))\n",
    "        result_matrix_normal = np.zeros((len(aa_list), len(iter_sequence_origin)))\n",
    "\n",
    "        sequence_code_origin = get_one_sequence_code(iter_sequence_origin)\n",
    "        with torch.no_grad():\n",
    "            output, feature = new_model(sequence_code_origin)\n",
    "        output = torch.softmax(output, dim=1)[0][1].item()\n",
    "        # print(iter_sequence_origin)\n",
    "\n",
    "        i = index\n",
    "        for j in range(len(aa_list)):\n",
    "            iter_sequence_perturbation = copy.copy(iter_sequence_origin)\n",
    "            iter_sequence_perturbation = iter_sequence_perturbation[:i] + aa_list[j] + iter_sequence_perturbation[\n",
    "                                                                                       i + 1:]\n",
    "            # print(iter_sequence_perturbation)\n",
    "            sequence_code_perturbation = get_one_sequence_code(iter_sequence_perturbation)\n",
    "            with torch.no_grad():\n",
    "                output_perturbation, feature = new_model(sequence_code_perturbation)\n",
    "            output_perturbation = torch.softmax(output_perturbation, dim=1)[0][1].item()\n",
    "\n",
    "            # 计算差异\n",
    "            # diff = output_modification - output\n",
    "            diff_abs = abs(output_perturbation - output)\n",
    "            diff_normal = output_perturbation - output\n",
    "            # print(diff_abs)\n",
    "\n",
    "            save_data_matrix_abs[aa_dict[iter_sequence_origin[i]]-1][j] += diff_abs\n",
    "            save_data_matrix_normal[aa_dict[iter_sequence_origin[i]]-1][j] += diff_normal\n",
    "\n",
    "    return save_data_matrix_abs, save_data_matrix_normal"
   ],
   "metadata": {
    "collapsed": false,
    "pycharm": {
     "name": "#%%\n"
    }
   }
  },
  {
   "cell_type": "code",
   "execution_count": 116,
   "outputs": [
    {
     "name": "stderr",
     "output_type": "stream",
     "text": [
      "100%|█████████████████████████████████████████████████████████████████████████████████████████████████████████████████████████████████████████████████████| 20/20 [00:02<00:00,  8.31it/s]\n",
      "100%|█████████████████████████████████████████████████████████████████████████████████████████████████████████████████████████████████████████████████████| 20/20 [00:02<00:00,  7.88it/s]\n",
      "100%|█████████████████████████████████████████████████████████████████████████████████████████████████████████████████████████████████████████████████████| 20/20 [00:02<00:00,  7.60it/s]\n",
      "100%|█████████████████████████████████████████████████████████████████████████████████████████████████████████████████████████████████████████████████████| 20/20 [00:02<00:00,  8.23it/s]\n"
     ]
    }
   ],
   "source": [
    "all_possible_aa = 'ACDEFGHIKLMNPQRSTVWY'\n",
    "seqs_P = []\n",
    "seqs_V = []\n",
    "seqs_R = []\n",
    "seqs_A = []\n",
    "for aa in all_possible_aa:\n",
    "    seqs_P.append('WP' + aa)\n",
    "for aa in all_possible_aa:\n",
    "    seqs_V.append('WV' + aa)\n",
    "for aa in all_possible_aa:\n",
    "    seqs_R.append('WR' + aa)\n",
    "for aa in all_possible_aa:\n",
    "    seqs_A.append('WA' + aa)\n",
    "\n",
    "save_data_matrix_abs_P, save_data_matrix_normal_P = perturbation_conversion_process_DIY_sequences(2, seqs_P)\n",
    "save_data_matrix_abs_V, save_data_matrix_normal_V = perturbation_conversion_process_DIY_sequences(2, seqs_V)\n",
    "save_data_matrix_abs_R, save_data_matrix_normal_R = perturbation_conversion_process_DIY_sequences(2, seqs_R)\n",
    "save_data_matrix_abs_A, save_data_matrix_normal_A = perturbation_conversion_process_DIY_sequences(2, seqs_A)"
   ],
   "metadata": {
    "collapsed": false,
    "pycharm": {
     "name": "#%%\n"
    }
   }
  },
  {
   "cell_type": "markdown",
   "source": [
    "# 5.3 make a 4*4 matrix to show the conversion of each aa to each aa\n",
    "# 5.3.1 wet experiments part"
   ],
   "metadata": {
    "collapsed": false,
    "pycharm": {
     "name": "#%% md\n"
    }
   }
  },
  {
   "cell_type": "code",
   "execution_count": 167,
   "outputs": [],
   "source": [
    "four_four_matrix = [[0 for i in range(4)] for i in range(4)]\n",
    "four_four_index = ['P', 'V', 'R', 'A']\n",
    "four_wet_value = [0 for i in range(4)]\n",
    "four_wet_value_max = [0 for i in range(4)]\n",
    "threePeptideData = [threePeptideData_P, threePeptideData_V, threePeptideData_R, threePeptideData_A]\n",
    "for i in range(4):\n",
    "    for j in range(len(threePeptideData[i])):\n",
    "        four_wet_value[i] += threePeptideData[i][j][1]\n",
    "for i in range(len(threePeptideData)):\n",
    "    for j in range(len(threePeptideData)):\n",
    "        four_four_matrix[i][j] = (four_wet_value[j] - four_wet_value[i])/5 + (conversation_matrix_P[aa_dict[four_four_index[i]]-1][aa_dict[four_four_index[j]]-1] + conversation_matrix_V[aa_dict[four_four_index[i]]-1][aa_dict[four_four_index[j]]-1] + conversation_matrix_R[aa_dict[four_four_index[i]]-1][aa_dict[four_four_index[j]]-1] + conversation_matrix_A[aa_dict[four_four_index[i]]-1][aa_dict[four_four_index[j]]-1])"
   ],
   "metadata": {
    "collapsed": false,
    "pycharm": {
     "name": "#%%\n"
    }
   }
  },
  {
   "cell_type": "code",
   "execution_count": 168,
   "outputs": [
    {
     "data": {
      "text/plain": "<Figure size 360x360 with 2 Axes>",
      "image/png": "[encoded data removed]"
     },
     "metadata": {
      "needs_background": "light"
     },
     "output_type": "display_data"
    }
   ],
   "source": [
    "plt.figure(figsize=(5, 5))\n",
    "sns.heatmap(four_four_matrix, annot=True, square=True, cmap=\"RdBu_r\", center=0, xticklabels=four_four_index, yticklabels=four_four_index, cbar_kws={\"shrink\": 0.7})\n",
    "plt.show()"
   ],
   "metadata": {
    "collapsed": false,
    "pycharm": {
     "name": "#%%\n"
    }
   }
  },
  {
   "cell_type": "code",
   "execution_count": null,
   "outputs": [],
   "source": [
    "# seqs_second_aa = [ 'W' + aa + 'P' for aa in all_possible_aa]\n",
    "#\n",
    "# save_data_matrix_abs_P, save_data_matrix_normal_P = perturbation_conversion_process_DIY_sequences(2, seqs_P)\n",
    "# save_data_matrix_abs_V, save_data_matrix_normal_V = perturbation_conversion_process_DIY_sequences(2, seqs_V)\n",
    "# save_data_matrix_abs_R, save_data_matrix_normal_R = perturbation_conversion_process_DIY_sequences(2, seqs_R)\n",
    "# save_data_matrix_abs_A, save_data_matrix_normal_A = perturbation_conversion_process_DIY_sequences(2, seqs_A)"
   ],
   "metadata": {
    "collapsed": false,
    "pycharm": {
     "name": "#%%\n"
    }
   }
  },
  {
   "cell_type": "markdown",
   "source": [
    "# 5.3.2 model experiments part"
   ],
   "metadata": {
    "collapsed": false,
    "pycharm": {
     "name": "#%% md\n"
    }
   }
  },
  {
   "cell_type": "code",
   "execution_count": 171,
   "outputs": [],
   "source": [
    "def perturbation_conversion_process_DIY_sequences_aa():\n",
    "    sequences = ['WP', 'WV', 'WR', 'WA']\n",
    "    four_four_model_matrix = [[0 for i in range(4)] for i in range(4)]\n",
    "    four_model_value = [[] for i in range(4)]\n",
    "    iter_sequences = sequences\n",
    "\n",
    "    new_model.eval()\n",
    "\n",
    "    for k in tqdm(range(len(iter_sequences))):\n",
    "        for i in range(len(aa_list)):\n",
    "            iter_sequence_origin = iter_sequences[k] + aa_list[i]\n",
    "            iter_sequence_len = len(iter_sequence_origin)\n",
    "\n",
    "            sequence_code_origin = get_one_sequence_code(iter_sequence_origin)\n",
    "            with torch.no_grad():\n",
    "                output, feature = new_model(sequence_code_origin)\n",
    "            output = torch.softmax(output, dim=1)[0][1].item()\n",
    "            four_model_value[k].append(output)\n",
    "\n",
    "    for i in range(len(four_model_value)):\n",
    "        for j in range(len(four_model_value)):\n",
    "            four_four_model_matrix[i][j] = sum(four_model_value[j])- (sum(four_model_value[i]))\n",
    "            # four_four_model_matrix[i][j] = sum(four_model_value[j]) - max(four_model_value[j]) - (sum(four_model_value[i]) - max(four_model_value[i]))\n",
    "\n",
    "    return four_four_model_matrix, four_model_value"
   ],
   "metadata": {
    "collapsed": false,
    "pycharm": {
     "name": "#%%\n"
    }
   }
  },
  {
   "cell_type": "code",
   "execution_count": 172,
   "outputs": [
    {
     "name": "stderr",
     "output_type": "stream",
     "text": [
      "100%|███████████████████████████████████████████████████████████████████████████████████████████████████████████████████████████████████████████████████████| 4/4 [00:00<00:00,  7.51it/s]\n"
     ]
    }
   ],
   "source": [
    "four_four_model_matrix, four_model_value = perturbation_conversion_process_DIY_sequences_aa()"
   ],
   "metadata": {
    "collapsed": false,
    "pycharm": {
     "name": "#%%\n"
    }
   }
  },
  {
   "cell_type": "code",
   "execution_count": 173,
   "outputs": [],
   "source": [
    "four_four_model_matrix_modified = [[0 for j in range(4)] for i in range(4)]\n",
    "for i in range(len(four_model_value)):\n",
    "    for j in range(len(four_model_value)):\n",
    "        four_four_model_matrix_modified[i][j] = (sum(four_model_value[j]) - sum(four_model_value[i]))/5 + (save_data_matrix_normal_P[aa_dict[four_four_index[i]]-1][aa_dict[four_four_index[j]]-1] + save_data_matrix_normal_V[aa_dict[four_four_index[i]]-1][aa_dict[four_four_index[j]]-1] + save_data_matrix_normal_R[aa_dict[four_four_index[i]]-1][aa_dict[four_four_index[j]]-1] + save_data_matrix_normal_A[aa_dict[four_four_index[i]]-1][aa_dict[four_four_index[j]]-1])"
   ],
   "metadata": {
    "collapsed": false,
    "pycharm": {
     "name": "#%%\n"
    }
   }
  },
  {
   "cell_type": "code",
   "execution_count": 175,
   "outputs": [
    {
     "data": {
      "text/plain": "<Figure size 360x360 with 2 Axes>",
      "image/png": "[encoded data removed]"
     },
     "metadata": {
      "needs_background": "light"
     },
     "output_type": "display_data"
    }
   ],
   "source": [
    "plt.figure(figsize=(5, 5))\n",
    "sns.heatmap(four_four_model_matrix, annot=True, square=True, cmap=\"RdBu_r\", center=0, xticklabels=four_four_index, yticklabels=four_four_index, cbar_kws={\"shrink\": 0.7})\n",
    "plt.show()"
   ],
   "metadata": {
    "collapsed": false,
    "pycharm": {
     "name": "#%%\n"
    }
   }
  },
  {
   "cell_type": "code",
   "execution_count": null,
   "outputs": [],
   "source": [],
   "metadata": {
    "collapsed": false,
    "pycharm": {
     "name": "#%%\n"
    }
   }
  }
 ],
 "metadata": {
  "kernelspec": {
   "display_name": "Python 3",
   "language": "python",
   "name": "python3"
  },
  "language_info": {
   "codemirror_mode": {
    "name": "ipython",
    "version": 2
   },
   "file_extension": ".py",
   "mimetype": "text/x-python",
   "name": "python",
   "nbconvert_exporter": "python",
   "pygments_lexer": "ipython2",
   "version": "2.7.6"
  }
 },
 "nbformat": 4,
 "nbformat_minor": 0
}
